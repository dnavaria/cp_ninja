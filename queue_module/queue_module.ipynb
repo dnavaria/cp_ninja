{
 "cells": [
  {
   "cell_type": "code",
   "execution_count": 12,
   "metadata": {},
   "outputs": [
    {
     "name": "stdout",
     "output_type": "stream",
     "text": [
      "None\n",
      "1\n",
      "<custom queue :: [1, 2, 3]>\n",
      "1\n",
      "<custom queue :: [1, 2, 3]>\n",
      "2\n",
      "<custom queue :: [1, 2, 3]>\n",
      "3\n",
      "None\n"
     ]
    }
   ],
   "source": [
    "class custom_queue:\n",
    "    def __init__(self):\n",
    "        self.__c_queue = []\n",
    "        self.__front_ptr = 0\n",
    "        self.__rear_ptr = 0\n",
    "\n",
    "    def enqueue(self,item):\n",
    "        self.__c_queue.append(item)\n",
    "        self.__rear_ptr+=1\n",
    "    \n",
    "    def dequeue(self):\n",
    "        if self.__rear_ptr == 0:\n",
    "            return None\n",
    "        data = self.__c_queue[self.__front_ptr]\n",
    "        self.__front_ptr+=1\n",
    "        self.__rear_ptr-=1\n",
    "        return data\n",
    "\n",
    "    def front(self):\n",
    "        if self.isEmpty():\n",
    "            return None\n",
    "        return self.__c_queue[self.__front_ptr]\n",
    "\n",
    "    def size(self):\n",
    "        return self.__rear_ptr\n",
    "\n",
    "    def isEmpty(self):\n",
    "        return self.size() == 0\n",
    "\n",
    "    def __repr__(self):\n",
    "        return f\"<custom queue :: {self.__c_queue}>\"\n",
    "\n",
    "cq = custom_queue()\n",
    "print(cq.front())\n",
    "cq.enqueue(1)\n",
    "cq.enqueue(2)\n",
    "cq.enqueue(3)\n",
    "print(cq.front())\n",
    "while cq.isEmpty() == False:\n",
    "    print(cq)\n",
    "    print(cq.dequeue())\n",
    "print(cq.front())"
   ]
  },
  {
   "cell_type": "code",
   "execution_count": null,
   "metadata": {},
   "outputs": [],
   "source": []
  }
 ],
 "metadata": {
  "interpreter": {
   "hash": "916dbcbb3f70747c44a77c7bcd40155683ae19c65e1c03b4aa3499c5328201f1"
  },
  "kernelspec": {
   "display_name": "Python 3.10.4 64-bit",
   "language": "python",
   "name": "python3"
  },
  "language_info": {
   "codemirror_mode": {
    "name": "ipython",
    "version": 3
   },
   "file_extension": ".py",
   "mimetype": "text/x-python",
   "name": "python",
   "nbconvert_exporter": "python",
   "pygments_lexer": "ipython3",
   "version": "3.10.4"
  },
  "orig_nbformat": 4
 },
 "nbformat": 4,
 "nbformat_minor": 2
}
