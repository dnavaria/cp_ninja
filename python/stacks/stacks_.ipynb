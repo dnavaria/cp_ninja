{
 "cells": [
  {
   "cell_type": "code",
   "execution_count": 1,
   "metadata": {},
   "outputs": [],
   "source": [
    "def isBalanced(expression) :\n",
    "    if expression == \"\":\n",
    "        return True\n",
    "\n",
    "    t_stack = []\n",
    "    for i in range(len(expression)):\n",
    "        if expression[i] == \"(\":\n",
    "            t_stack.append(\")\")\n",
    "        elif len(t_stack) > 0 and expression[i] == \")\":\n",
    "            item = t_stack.pop()\n",
    "            if expression[i] != item:\n",
    "                return False\n",
    "    \n",
    "    if len(t_stack) > 0:\n",
    "        return False\n",
    "        \n",
    "    return True\n"
   ]
  },
  {
   "cell_type": "code",
   "execution_count": 20,
   "metadata": {},
   "outputs": [
    {
     "name": "stdout",
     "output_type": "stream",
     "text": [
      "3\n",
      "<stack :: [1, 2, 3]>\n",
      "<stack :: [1, 2]>\n",
      "False\n",
      "<stack :: [1, 2]>\n",
      "None\n",
      "None\n",
      "None\n",
      "True\n"
     ]
    }
   ],
   "source": [
    "class stack:\n",
    "\n",
    "    def __init__(self):\n",
    "        self.__stack = []\n",
    "    \n",
    "    def push(self,item):\n",
    "        self.__stack.append(item)\n",
    "    \n",
    "    def pop(self):\n",
    "        if self.isEmpty():\n",
    "            return None\n",
    "        self.__stack.pop()\n",
    "\n",
    "    def top(self):\n",
    "        return self.__stack[-1] if self.isEmpty() == False else None\n",
    "\n",
    "    def size(self):\n",
    "        return len(self.__stack)\n",
    "\n",
    "    def isEmpty(self):\n",
    "        return self.size() == 0\n",
    "    \n",
    "    def __repr__(self):\n",
    "        return f\"<stack :: {self.__stack}>\"\n",
    "\n",
    "s = stack()\n",
    "s.push(1)\n",
    "s.push(2)\n",
    "s.push(3)\n",
    "print(s.top())\n",
    "print(s)\n",
    "s.pop()\n",
    "print(s)\n",
    "s.size()\n",
    "print(s.isEmpty())\n",
    "print(s)\n",
    "print(s.pop())\n",
    "print(s.pop())\n",
    "print(s.pop())\n",
    "print(s.isEmpty())\n"
   ]
  },
  {
   "cell_type": "code",
   "execution_count": 24,
   "metadata": {},
   "outputs": [],
   "source": [
    "\n",
    "from sys import stdin\n",
    "\n",
    "#Following is the structure of the node class for a Singly Linked List\n",
    "class Node :\n",
    "\n",
    "    def __init__(self, data) :\n",
    "        self.data = data\n",
    "        self.next = None\n",
    "\n",
    "\n",
    "class Stack :\n",
    "\n",
    "    #Define data members and __init__()\n",
    "    def __init__(self):\n",
    "        self.__stack = None\n",
    "        self.__count = 0\n",
    "\n",
    "    def getSize(self) :\n",
    "        return self.__count        \n",
    "\n",
    "    def isEmpty(self) :\n",
    "        return self.__count == -1\n",
    "\n",
    "    def push(self, data) :\n",
    "        node = Node(data)\n",
    "        self.__count +=1 \n",
    "        if self.isEmpty() == False:\n",
    "            node.next = self.__stack\n",
    "            self.__stack = node\n",
    "            return \n",
    "        self.__stack = node\n",
    "        return\n",
    "\n",
    "    def pop(self) :\n",
    "        if self.isEmpty():\n",
    "            return -1\n",
    "        data_node = self.__stack\n",
    "        data = data_node.data\n",
    "        del data_node\n",
    "        self.__stack = self.__stack.next\n",
    "        self.__count -=1\n",
    "        return data\n",
    "\n",
    "    def top(self) :\n",
    "        if self.isEmpty():\n",
    "            return -1\n",
    "        return self.__stack.data\n",
    "\n",
    "\n"
   ]
  },
  {
   "cell_type": "code",
   "execution_count": 1,
   "metadata": {},
   "outputs": [],
   "source": [
    "def reverseStack(inputStack, extraStack) :\n",
    "    if len(inputStack) == 0:\n",
    "        for i in extraStack:\n",
    "            inputStack.append(i)\n",
    "        return extraStack\n",
    "    \n",
    "    data = inputStack.pop()\n",
    "    extraStack.append(data)\n",
    "    return reverseStack(inputStack,extraStack)\n",
    "\n"
   ]
  },
  {
   "cell_type": "code",
   "execution_count": 8,
   "metadata": {},
   "outputs": [
    {
     "data": {
      "text/plain": [
       "[1, 2, 2, 2, 1, 1, 1, 5]"
      ]
     },
     "execution_count": 8,
     "metadata": {},
     "output_type": "execute_result"
    }
   ],
   "source": [
    "def stockSpan(price, n) :\n",
    "    max_price_so_far = 0\n",
    "    result_array = []\n",
    "    stack = []\n",
    "    for i in range(len(price)):\n",
    "        if price[i] > max_price_so_far:\n",
    "            max_price_so_far = price[i]\n",
    "            cnt = 0\n",
    "            if len(stack) == 0:\n",
    "                cnt+=1\n",
    "                stack.append(price[i])\n",
    "                result_array.append(cnt)\n",
    "                continue\n",
    "            while len(stack) > cnt:\n",
    "                cnt+=1\n",
    "            result_array.append(cnt+1)\n",
    "        else:\n",
    "            stack.append(price[i])\n",
    "            result_array.append(1)\n",
    "    return result_array\n",
    "ip = [60, 70, 80, 100, 90, 75, 80, 120]\n",
    "stockSpan(ip,len(ip))\n"
   ]
  },
  {
   "cell_type": "code",
   "execution_count": null,
   "metadata": {},
   "outputs": [],
   "source": []
  }
 ],
 "metadata": {
  "interpreter": {
   "hash": "916dbcbb3f70747c44a77c7bcd40155683ae19c65e1c03b4aa3499c5328201f1"
  },
  "kernelspec": {
   "display_name": "Python 3.10.4 64-bit",
   "language": "python",
   "name": "python3"
  },
  "language_info": {
   "codemirror_mode": {
    "name": "ipython",
    "version": 3
   },
   "file_extension": ".py",
   "mimetype": "text/x-python",
   "name": "python",
   "nbconvert_exporter": "python",
   "pygments_lexer": "ipython3",
   "version": "3.10.4"
  },
  "orig_nbformat": 4
 },
 "nbformat": 4,
 "nbformat_minor": 2
}
