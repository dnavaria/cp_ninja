{
 "cells": [
  {
   "cell_type": "code",
   "execution_count": 7,
   "id": "200e7ee5",
   "metadata": {},
   "outputs": [
    {
     "name": "stdout",
     "output_type": "stream",
     "text": [
      "[(-3, 3), (-3, 3), (-2, 2)]\n"
     ]
    }
   ],
   "source": [
    "def pairSum(arr, s):\n",
    "    dd = {}\n",
    "    final_list = []\n",
    "    for x in arr:\n",
    "        dd[x] = dd.get(x,0)+1\n",
    "    for k in arr:\n",
    "        if dd[k] > 0 and s-k in dd:\n",
    "            if dd[k] == dd[s-k]:\n",
    "                dd[k]-=1\n",
    "                dd[s-k]-=1\n",
    "            elif dd[k] < dd[s-k]:\n",
    "                dd[s-k]-=1\n",
    "            b = s-k if ((s-k) > k) else k\n",
    "            sm = k if ((s-k) > k) else s-k\n",
    "            final_list.append((sm,b))\n",
    "    return sorted(final_list)\n",
    "    \n",
    "arr = [-2,-3,3,3,2]\n",
    "s = 0\n",
    "print(pairSum(arr,s))"
   ]
  },
  {
   "cell_type": "code",
   "execution_count": 14,
   "id": "b4f84a28",
   "metadata": {},
   "outputs": [
    {
     "data": {
      "text/plain": [
       "5"
      ]
     },
     "execution_count": 14,
     "metadata": {},
     "output_type": "execute_result"
    }
   ],
   "source": [
    "\n",
    "class Solution:\n",
    "    def maxProfit(self, arr) -> int:\n",
    "        aux = [0]*len(arr)\n",
    "        max_so_far = 0\n",
    "        for i in range(len(arr)-1,-1,-1):\n",
    "            if max_so_far < arr[i]:\n",
    "                max_so_far = arr[i]\n",
    "            aux[i] = max_so_far\n",
    "        max_so_far = 0\n",
    "        for i in range(len(arr)):\n",
    "            if (aux[i] - arr[i]) > max_so_far:\n",
    "                max_so_far =  aux[i] - arr[i]\n",
    "        return max_so_far\n",
    "    \n",
    "Solution().maxProfit([7,1,5,3,6,4])"
   ]
  },
  {
   "cell_type": "code",
   "execution_count": 25,
   "id": "b73886fa",
   "metadata": {},
   "outputs": [
    {
     "data": {
      "text/plain": [
       "[360, 2520, 504, 840, 420, 630]"
      ]
     },
     "execution_count": 25,
     "metadata": {},
     "output_type": "execute_result"
    }
   ],
   "source": [
    "class Solution:\n",
    "    def productExceptSelf(self, nums):\n",
    "        res = [1]*len(nums)\n",
    "        prefix = 1\n",
    "        # calculating prefix\n",
    "        for i in range(len(nums)):\n",
    "            res[i] = prefix\n",
    "            prefix *=nums[i]\n",
    "        postfix = 1\n",
    "        for i in range(len(nums)-1,-1,-1):\n",
    "            res[i] *=postfix\n",
    "            postfix*=nums[i]\n",
    "        return res\n",
    "Solution().productExceptSelf([7,1,5,3,6,4])"
   ]
  },
  {
   "cell_type": "code",
   "execution_count": 12,
   "id": "1558af31",
   "metadata": {},
   "outputs": [
    {
     "data": {
      "text/plain": [
       "5"
      ]
     },
     "execution_count": 12,
     "metadata": {},
     "output_type": "execute_result"
    }
   ],
   "source": [
    "\n",
    "class Solution:\n",
    "    def maxProfit(self, arr) -> int:\n",
    "        min_el = min(arr)\n",
    "        index_of_min = arr.index(min_el)\n",
    "        max_profit = 0\n",
    "        for i in range(len(arr)-1,index_of_min,-1):\n",
    "            diff = (arr[i] - min_el)\n",
    "            if diff > max_profit:\n",
    "                max_profit = diff\n",
    "        return max_profit\n",
    "    \n",
    "Solution().maxProfit([7,1,5,3,6,4])"
   ]
  },
  {
   "cell_type": "code",
   "execution_count": 10,
   "id": "54f2e653",
   "metadata": {},
   "outputs": [
    {
     "name": "stdout",
     "output_type": "stream",
     "text": [
      "2\n"
     ]
    }
   ],
   "source": [
    "x = [7,1,5,3,6,4]\n",
    "print(x.index(5))"
   ]
  },
  {
   "cell_type": "code",
   "execution_count": 20,
   "id": "a3c3f7db",
   "metadata": {},
   "outputs": [
    {
     "data": {
      "text/plain": [
       "3"
      ]
     },
     "execution_count": 20,
     "metadata": {},
     "output_type": "execute_result"
    }
   ],
   "source": [
    "def jumpingOnClouds(c):\n",
    "    cnt = 0\n",
    "    itr = 0\n",
    "    while itr+1 < len(c):\n",
    "        if itr+2 < len(c) and c[itr+2] == 0:\n",
    "            cnt+=1\n",
    "            itr+=2\n",
    "        elif c[itr+1] == 0:\n",
    "            cnt+=1\n",
    "            itr+=1\n",
    "        else:\n",
    "            return 0\n",
    "    return cnt\n",
    "# jumpingOnClouds([0,0,1,0,0,1,0])\n",
    "jumpingOnClouds([0,0,0,1,0,0])"
   ]
  },
  {
   "cell_type": "code",
   "execution_count": 26,
   "id": "a5a35e83",
   "metadata": {},
   "outputs": [
    {
     "data": {
      "text/plain": [
       "7"
      ]
     },
     "execution_count": 26,
     "metadata": {},
     "output_type": "execute_result"
    }
   ],
   "source": [
    "def repeatedString(s, n):\n",
    "    freq = {\"a\":0}\n",
    "    for i in s:\n",
    "        if i == \"a\":\n",
    "            freq[\"a\"]+=1\n",
    "    if n % len(s) == 0:\n",
    "        c = n // len(s)\n",
    "        return c * freq[\"a\"]\n",
    "    else:\n",
    "        c = n // len(s)\n",
    "        c*=freq[\"a\"]\n",
    "        mod = n % len(s)\n",
    "        cnt = 0\n",
    "        for i in range(0,mod):\n",
    "            if s[i] == \"a\":\n",
    "                cnt+=1\n",
    "        return c + cnt\n",
    "        \n",
    "repeatedString(\"aba\",10)"
   ]
  },
  {
   "cell_type": "code",
   "execution_count": 61,
   "id": "0a66d9ed",
   "metadata": {},
   "outputs": [
    {
     "data": {
      "text/plain": [
       "0"
      ]
     },
     "execution_count": 61,
     "metadata": {},
     "output_type": "execute_result"
    }
   ],
   "source": [
    "def countingValleys(steps, path):\n",
    "    cnt = 0\n",
    "    prevc = cnt\n",
    "    nval = 0\n",
    "    for i in range(steps):\n",
    "        if path[i] == \"U\":\n",
    "            prevc = cnt\n",
    "            cnt+=1\n",
    "        elif path[i] == \"D\":\n",
    "            prevc = cnt\n",
    "            cnt-=1\n",
    "        if i > 0 and prevc < 0 and cnt == 0:\n",
    "            nval +=1\n",
    "    return nval\n",
    "# countingValleys(8,[\"U\",\"D\",\"D\",\"D\",\"U\",\"D\",\"U\",\"U\"])\n",
    "# x = [\"U\",\"D\",\"D\",\"D\",\"U\",\"U\",\"D\",\"D\",\"D\",\"U\",\"U\",\"U\"]\n",
    "x = [\"U\",\"D\",\"U\",\"U\",\"U\",\"D\",\"U\",\"D\",\"D\",\"D\"]\n",
    "countingValleys(len(x),x)"
   ]
  },
  {
   "cell_type": "code",
   "execution_count": null,
   "id": "e644885b",
   "metadata": {},
   "outputs": [],
   "source": [
    "def checkMagazine(magazine, note):\n",
    "    pass\n",
    "checkMagazine"
   ]
  },
  {
   "cell_type": "code",
   "execution_count": null,
   "id": "48227c27",
   "metadata": {},
   "outputs": [],
   "source": []
  }
 ],
 "metadata": {
  "kernelspec": {
   "display_name": "Python 3 (ipykernel)",
   "language": "python",
   "name": "python3"
  },
  "language_info": {
   "codemirror_mode": {
    "name": "ipython",
    "version": 3
   },
   "file_extension": ".py",
   "mimetype": "text/x-python",
   "name": "python",
   "nbconvert_exporter": "python",
   "pygments_lexer": "ipython3",
   "version": "3.9.5"
  }
 },
 "nbformat": 4,
 "nbformat_minor": 5
}
