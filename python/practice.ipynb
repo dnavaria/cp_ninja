{
 "cells": [
  {
   "cell_type": "code",
   "execution_count": 7,
   "id": "200e7ee5",
   "metadata": {},
   "outputs": [
    {
     "name": "stdout",
     "output_type": "stream",
     "text": [
      "[(-3, 3), (-3, 3), (-2, 2)]\n"
     ]
    }
   ],
   "source": [
    "def pairSum(arr, s):\n",
    "    dd = {}\n",
    "    final_list = []\n",
    "    for x in arr:\n",
    "        dd[x] = dd.get(x,0)+1\n",
    "    for k in arr:\n",
    "        if dd[k] > 0 and s-k in dd:\n",
    "            if dd[k] == dd[s-k]:\n",
    "                dd[k]-=1\n",
    "                dd[s-k]-=1\n",
    "            elif dd[k] < dd[s-k]:\n",
    "                dd[s-k]-=1\n",
    "            b = s-k if ((s-k) > k) else k\n",
    "            sm = k if ((s-k) > k) else s-k\n",
    "            final_list.append((sm,b))\n",
    "    return sorted(final_list)\n",
    "    \n",
    "arr = [-2,-3,3,3,2]\n",
    "s = 0\n",
    "print(pairSum(arr,s))"
   ]
  },
  {
   "cell_type": "code",
   "execution_count": 14,
   "id": "b4f84a28",
   "metadata": {},
   "outputs": [
    {
     "data": {
      "text/plain": [
       "5"
      ]
     },
     "execution_count": 14,
     "metadata": {},
     "output_type": "execute_result"
    }
   ],
   "source": [
    "\n",
    "class Solution:\n",
    "    def maxProfit(self, arr) -> int:\n",
    "        aux = [0]*len(arr)\n",
    "        max_so_far = 0\n",
    "        for i in range(len(arr)-1,-1,-1):\n",
    "            if max_so_far < arr[i]:\n",
    "                max_so_far = arr[i]\n",
    "            aux[i] = max_so_far\n",
    "        max_so_far = 0\n",
    "        for i in range(len(arr)):\n",
    "            if (aux[i] - arr[i]) > max_so_far:\n",
    "                max_so_far =  aux[i] - arr[i]\n",
    "        return max_so_far\n",
    "    \n",
    "Solution().maxProfit([7,1,5,3,6,4])"
   ]
  },
  {
   "cell_type": "code",
   "execution_count": 25,
   "id": "b73886fa",
   "metadata": {},
   "outputs": [
    {
     "data": {
      "text/plain": [
       "[360, 2520, 504, 840, 420, 630]"
      ]
     },
     "execution_count": 25,
     "metadata": {},
     "output_type": "execute_result"
    }
   ],
   "source": [
    "class Solution:\n",
    "    def productExceptSelf(self, nums):\n",
    "        res = [1]*len(nums)\n",
    "        prefix = 1\n",
    "        # calculating prefix\n",
    "        for i in range(len(nums)):\n",
    "            res[i] = prefix\n",
    "            prefix *=nums[i]\n",
    "        postfix = 1\n",
    "        for i in range(len(nums)-1,-1,-1):\n",
    "            res[i] *=postfix\n",
    "            postfix*=nums[i]\n",
    "        return res\n",
    "Solution().productExceptSelf([7,1,5,3,6,4])"
   ]
  },
  {
   "cell_type": "code",
   "execution_count": null,
   "id": "1558af31",
   "metadata": {},
   "outputs": [],
   "source": []
  }
 ],
 "metadata": {
  "kernelspec": {
   "display_name": "Python 3 (ipykernel)",
   "language": "python",
   "name": "python3"
  },
  "language_info": {
   "codemirror_mode": {
    "name": "ipython",
    "version": 3
   },
   "file_extension": ".py",
   "mimetype": "text/x-python",
   "name": "python",
   "nbconvert_exporter": "python",
   "pygments_lexer": "ipython3",
   "version": "3.9.5"
  }
 },
 "nbformat": 4,
 "nbformat_minor": 5
}
