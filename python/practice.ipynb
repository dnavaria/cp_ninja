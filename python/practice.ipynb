{
 "cells": [
  {
   "cell_type": "code",
   "execution_count": 12,
   "id": "200e7ee5",
   "metadata": {},
   "outputs": [
    {
     "ename": "SyntaxError",
     "evalue": "invalid syntax (1391183414.py, line 5)",
     "output_type": "error",
     "traceback": [
      "\u001b[0;36m  Input \u001b[0;32mIn [12]\u001b[0;36m\u001b[0m\n\u001b[0;31m    x = (x + 1) % nRowsdef pairSum(arr, s):\u001b[0m\n\u001b[0m                           ^\u001b[0m\n\u001b[0;31mSyntaxError\u001b[0m\u001b[0;31m:\u001b[0m invalid syntax\n"
     ]
    }
   ],
   "source": [
    "            print(mat[x][y],end=\" \")\n",
    "            if alter:\n",
    "                x = (x - 1) % nRows\n",
    "            else:\n",
    "                x = (x + 1) % nRowsdef pairSum(arr, s):\n",
    "    dd = {}\n",
    "    final_list = []\n",
    "    for x in arr:\n",
    "        dd[x] = dd.get(x,0)+1\n",
    "    for k in arr:\n",
    "        if dd[k] > 0 and s-k in dd:\n",
    "            if dd[k] == dd[s-k]:\n",
    "                dd[k]-=1\n",
    "                dd[s-k]-=1\n",
    "            elif dd[k] < dd[s-k]:\n",
    "                dd[s-k]-=1\n",
    "            b = s-k if ((s-k) > k) else k\n",
    "            sm = k if ((s-k) > k) else s-k\n",
    "            final_list.append((sm,b))\n",
    "    return sorted(final_list)\n",
    "    \n",
    "arr = [-2,-3,3,3,2]\n",
    "s = 0\n",
    "print(pairSum(arr,s))"
   ]
  },
  {
   "cell_type": "code",
   "execution_count": 13,
   "id": "b4f84a28",
   "metadata": {},
   "outputs": [
    {
     "data": {
      "text/plain": [
       "5"
      ]
     },
     "execution_count": 13,
     "metadata": {},
     "output_type": "execute_result"
    }
   ],
   "source": [
    "\n",
    "class Solution:\n",
    "    def maxProfit(self, arr) -> int:\n",
    "        aux = [0]*len(arr)\n",
    "        max_so_far = 0\n",
    "        for i in range(len(arr)-1,-1,-1):\n",
    "            if max_so_far < arr[i]:\n",
    "                max_so_far = arr[i]\n",
    "            aux[i] = max_so_far\n",
    "        max_so_far = 0\n",
    "        for i in range(len(arr)):\n",
    "            if (aux[i] - arr[i]) > max_so_far:\n",
    "                max_so_far =  aux[i] - arr[i]\n",
    "        return max_so_far\n",
    "    \n",
    "Solution().maxProfit([7,1,5,3,6,4])"
   ]
  },
  {
   "cell_type": "code",
   "execution_count": 25,
   "id": "b73886fa",
   "metadata": {},
   "outputs": [
    {
     "data": {
      "text/plain": [
       "[360, 2520, 504, 840, 420, 630]"
      ]
     },
     "execution_count": 25,
     "metadata": {},
     "output_type": "execute_result"
    }
   ],
   "source": [
    "class Solution:\n",
    "    def productExceptSelf(self, nums):\n",
    "        res = [1]*len(nums)\n",
    "        prefix = 1\n",
    "        # calculating prefix\n",
    "        for i in range(len(nums)):\n",
    "            res[i] = prefix\n",
    "            prefix *=nums[i]\n",
    "        postfix = 1\n",
    "        for i in range(len(nums)-1,-1,-1):\n",
    "            res[i] *=postfix\n",
    "            postfix*=nums[i]\n",
    "        return res\n",
    "Solution().productExceptSelf([7,1,5,3,6,4])"
   ]
  },
  {
   "cell_type": "code",
   "execution_count": 12,
   "id": "1558af31",
   "metadata": {},
   "outputs": [
    {
     "data": {
      "text/plain": [
       "5"
      ]
     },
     "execution_count": 12,
     "metadata": {},
     "output_type": "execute_result"
    }
   ],
   "source": [
    "\n",
    "class Solution:\n",
    "    def maxProfit(self, arr) -> int:\n",
    "        min_el = min(arr)\n",
    "        index_of_min = arr.index(min_el)\n",
    "        max_profit = 0\n",
    "        for i in range(len(arr)-1,index_of_min,-1):\n",
    "            diff = (arr[i] - min_el)\n",
    "            if diff > max_profit:\n",
    "                max_profit = diff\n",
    "        return max_profit\n",
    "    \n",
    "Solution().maxProfit([7,1,5,3,6,4])"
   ]
  },
  {
   "cell_type": "code",
   "execution_count": 10,
   "id": "54f2e653",
   "metadata": {},
   "outputs": [
    {
     "name": "stdout",
     "output_type": "stream",
     "text": [
      "2\n"
     ]
    }
   ],
   "source": [
    "x = [7,1,5,3,6,4]\n",
    "print(x.index(5))"
   ]
  },
  {
   "cell_type": "code",
   "execution_count": 6,
   "id": "a3c3f7db",
   "metadata": {},
   "outputs": [
    {
     "data": {
      "text/plain": [
       "3"
      ]
     },
     "execution_count": 6,
     "metadata": {},
     "output_type": "execute_result"
    }
   ],
   "source": [
    "def jumpingOnClouds(c):\n",
    "    cnt = 0\n",
    "    itr = 0\n",
    "    while itr+1 < len(c):\n",
    "        if itr+2 < len(c) and c[itr+2] == 0:\n",
    "            cnt+=1\n",
    "            itr+=2\n",
    "        elif c[itr+1] == 0:\n",
    "            cnt+=1\n",
    "            itr+=1\n",
    "        else:\n",
    "            return 0\n",
    "    return cnt\n",
    "# jumpingOnClouds([0,0,1,0,0,1,0])\n",
    "jumpingOnClouds([0,0,0,1,0,0])"
   ]
  },
  {
   "cell_type": "code",
   "execution_count": 26,
   "id": "a5a35e83",
   "metadata": {},
   "outputs": [
    {
     "data": {
      "text/plain": [
       "7"
      ]
     },
     "execution_count": 26,
     "metadata": {},
     "output_type": "execute_result"
    }
   ],
   "source": [
    "def repeatedString(s, n):\n",
    "    freq = {\"a\":0}\n",
    "    for i in s:\n",
    "        if i == \"a\":\n",
    "            freq[\"a\"]+=1\n",
    "    if n % len(s) == 0:\n",
    "        c = n // len(s)\n",
    "        return c * freq[\"a\"]\n",
    "    else:\n",
    "        c = n // len(s)\n",
    "        c*=freq[\"a\"]\n",
    "        mod = n % len(s)\n",
    "        cnt = 0\n",
    "        for i in range(0,mod):\n",
    "            if s[i] == \"a\":\n",
    "                cnt+=1\n",
    "        return c + cnt\n",
    "        \n",
    "repeatedString(\"aba\",10)"
   ]
  },
  {
   "cell_type": "code",
   "execution_count": 5,
   "id": "0a66d9ed",
   "metadata": {},
   "outputs": [
    {
     "data": {
      "text/plain": [
       "0"
      ]
     },
     "execution_count": 5,
     "metadata": {},
     "output_type": "execute_result"
    }
   ],
   "source": [
    "def countingValleys(steps, path):\n",
    "    cnt = 0\n",
    "    prevc = cnt\n",
    "    nval = 0\n",
    "    for i in range(steps):\n",
    "        if path[i] == \"U\":\n",
    "            prevc = cnt\n",
    "            cnt+=1\n",
    "        elif path[i] == \"D\":\n",
    "            prevc = cnt\n",
    "            cnt-=1\n",
    "        if i > 0 and prevc < 0 and cnt == 0:\n",
    "            nval +=1\n",
    "    return nval\n",
    "# countingValleys(8,[\"U\",\"D\",\"D\",\"D\",\"U\",\"D\",\"U\",\"U\"])\n",
    "# x = [\"U\",\"D\",\"D\",\"D\",\"U\",\"U\",\"D\",\"D\",\"D\",\"U\",\"U\",\"U\"]\n",
    "x = [\"U\",\"D\",\"U\",\"U\",\"U\",\"D\",\"U\",\"D\",\"D\",\"D\"]\n",
    "countingValleys(len(x),x)"
   ]
  },
  {
   "cell_type": "code",
   "execution_count": null,
   "id": "e644885b",
   "metadata": {},
   "outputs": [],
   "source": [
    "def checkMagazine(magazine, note):\n",
    "    pass\n",
    "checkMagazine"
   ]
  },
  {
   "cell_type": "code",
   "execution_count": 1,
   "id": "48227c27",
   "metadata": {},
   "outputs": [],
   "source": [
    "def isPalindrome(string) :\n",
    "    return string == string[::-1]"
   ]
  },
  {
   "cell_type": "code",
   "execution_count": 2,
   "id": "722a00cb",
   "metadata": {},
   "outputs": [],
   "source": [
    "def replaceCharacter(string, c1, c2):\n",
    "    ans = \"\"\n",
    "    for i in range(len(string)):\n",
    "        if string[i] == c1:\n",
    "            ans+=c2\n",
    "        else:\n",
    "            ans+=string[i]\n",
    "    return ans"
   ]
  },
  {
   "cell_type": "code",
   "execution_count": 5,
   "id": "d332d27c",
   "metadata": {},
   "outputs": [
    {
     "name": "stdout",
     "output_type": "stream",
     "text": [
      "5 6\n",
      "5 6\n"
     ]
    }
   ],
   "source": [
    "s,x = input().split()\n",
    "print(s,x)"
   ]
  },
  {
   "cell_type": "code",
   "execution_count": 17,
   "id": "82d57a99",
   "metadata": {},
   "outputs": [
    {
     "name": "stdout",
     "output_type": "stream",
     "text": [
      "Ninjas Coding to Welcome\n"
     ]
    }
   ],
   "source": [
    "def reverse_word_wise(string):\n",
    "    ans = \"\"\n",
    "    temp = \"\"\n",
    "    for i in range(len(string)):\n",
    "        \n",
    "        if string[i] == \" \":\n",
    "            temp = \" \"+temp\n",
    "            ans  = temp + ans\n",
    "            temp = \"\"\n",
    "        else:\n",
    "            temp += string[i]\n",
    "    ans  = temp + ans\n",
    "    return ans\n",
    "print(reverse_word_wise(\"Welcome to Coding Ninjas\"))"
   ]
  },
  {
   "cell_type": "code",
   "execution_count": 32,
   "id": "134bae8b",
   "metadata": {},
   "outputs": [
    {
     "name": "stdout",
     "output_type": "stream",
     "text": [
      "a ab abc b bc c"
     ]
    }
   ],
   "source": [
    "def printSubstrings(string) :\n",
    "    ans = [string[i:j] for i in range(len(string)) for j in range(i+1,len(string)+1)]\n",
    "    print(*ans,end=\"\")\n",
    "printSubstrings(\"abc\")"
   ]
  },
  {
   "cell_type": "code",
   "execution_count": 8,
   "id": "22e8af83",
   "metadata": {
    "scrolled": true
   },
   "outputs": [
    {
     "name": "stdout",
     "output_type": "stream",
     "text": [
      "1\n",
      "1 5 9 10 6 2 3 7 11 12 8 4 \n"
     ]
    }
   ],
   "source": [
    "from sys import stdin\n",
    "\n",
    "def wavePrint(mat, nRows, mCols):\n",
    "    x,y = 0,0\n",
    "    flag = True\n",
    "    for i in range(mCols):\n",
    "        for j in range(nRows):\n",
    "            print(mat[x][y],end=\" \")\n",
    "            if flag:\n",
    "                x = (x + 1)\n",
    "            else:\n",
    "                x = (x - 1)\n",
    "        flag = not (flag)\n",
    "        if flag == False:\n",
    "            x = nRows - 1\n",
    "        else:\n",
    "            x = 0\n",
    "        y+=1\n",
    "\n",
    "\n",
    "#main\n",
    "t = int(input())\n",
    "\n",
    "while t > 0 :\n",
    "\n",
    "    nRows, mCols = 3,4\n",
    "    mat = [[1,2,3,4],[5,6,7,8],[9,10,11,12]]\n",
    "    \n",
    "    wavePrint(mat, nRows, mCols)\n",
    "    print()\n",
    "\n",
    "    t -= 1"
   ]
  },
  {
   "cell_type": "code",
   "execution_count": 1,
   "id": "f3dda6e1",
   "metadata": {},
   "outputs": [
    {
     "name": "stdout",
     "output_type": "stream",
     "text": [
      "1 2 3 4 8 12 16 15 14 13 9 5 6 7 11 10 "
     ]
    }
   ],
   "source": [
    "from sys import stdin\n",
    "\n",
    "def spiralPrint(mat, nRows, mCols):\n",
    "    if nRows == 0 and mCols == 0:\n",
    "        return\n",
    "    tn = 0\n",
    "    x,y = 0,0\n",
    "    fy = 1\n",
    "    dx = 1\n",
    "    by = 1\n",
    "    ux = 1\n",
    "    while tn < nRows:\n",
    "        while y < mCols - fy:\n",
    "            print(mat[x][y],end=\" \")\n",
    "            y+=1\n",
    "\n",
    "        fy+=1\n",
    "        while x < nRows - dx:\n",
    "            print(mat[x][y],end=\" \")\n",
    "            x+=1\n",
    "        dx+=1\n",
    "\n",
    "        while y >= by:\n",
    "            print(mat[x][y],end=\" \")\n",
    "            y-=1\n",
    "        by+=1\n",
    "\n",
    "        while x > ux:\n",
    "            print(mat[x][y],end=\" \")\n",
    "            x-=1\n",
    "        ux+=1    \n",
    "\n",
    "        tn+=1\n",
    "        \n",
    "    print(mat[x][y],end=\" \")\n",
    "    \n",
    "mat = [[1,2,3,4],[5,6,7,8],[9,10,11,12],[13,14,15,16]]\n",
    "spiralPrint(mat,4,4)"
   ]
  },
  {
   "cell_type": "code",
   "execution_count": 26,
   "id": "b74779a9",
   "metadata": {},
   "outputs": [
    {
     "data": {
      "text/plain": [
       "[1, 2, 5, 6, 7, 8, 9]"
      ]
     },
     "execution_count": 26,
     "metadata": {},
     "output_type": "execute_result"
    }
   ],
   "source": [
    "def mtsr(arr1,arr2,arr):\n",
    "    i,j = 0,0\n",
    "    while i < len(arr1) and j < len(arr2):\n",
    "        if arr1[i] < arr2[j]:\n",
    "            arr.append(arr1[i])\n",
    "            i+=1\n",
    "        else:\n",
    "            arr.append(arr2[j])\n",
    "            j+=1\n",
    "    while i < len(arr1):\n",
    "        arr.append(arr1[i])\n",
    "        i+=1\n",
    "    while j < len(arr2):\n",
    "        arr.append(arr2[j])\n",
    "        j+=1\n",
    "    return arr\n",
    "arr = []\n",
    "mtsr([1,2,9],[5,6,7,8],arr)\n"
   ]
  },
  {
   "cell_type": "code",
   "execution_count": 3,
   "id": "f25963e7",
   "metadata": {},
   "outputs": [],
   "source": [
    "arr=[9,8,7,6,5,4,3,2,1]\n"
   ]
  },
  {
   "cell_type": "code",
   "execution_count": 29,
   "id": "0c067c0a",
   "metadata": {},
   "outputs": [
    {
     "data": {
      "text/plain": [
       "[1, 2, 3, 4, 5, 6, 7, 8, 9]"
      ]
     },
     "execution_count": 29,
     "metadata": {},
     "output_type": "execute_result"
    }
   ],
   "source": [
    "def isr(arr):\n",
    "    for i in range(len(arr)):\n",
    "        key = arr[i]\n",
    "        j = i-1\n",
    "        while j>=0 and arr[j] > key:\n",
    "            arr[j+1] = arr[j]\n",
    "            j-=1\n",
    "        arr[j+1]=key\n",
    "    return arr\n",
    "isr(arr)    "
   ]
  },
  {
   "cell_type": "code",
   "execution_count": 38,
   "id": "d843defd",
   "metadata": {},
   "outputs": [
    {
     "name": "stdout",
     "output_type": "stream",
     "text": [
      "[1, 2, 3, 4, 5, 6, 7, 8, 9]\n"
     ]
    }
   ],
   "source": [
    "def mtsr(arr1,arr2,arr):\n",
    "    i,j,k = 0,0,0\n",
    "    while i < len(arr1) and j < len(arr2):\n",
    "        if arr1[i] < arr2[j]:\n",
    "            arr[k] = arr1[i]\n",
    "            i+=1\n",
    "        else:\n",
    "            arr[k] = arr2[j]\n",
    "            j+=1\n",
    "        k+=1\n",
    "        \n",
    "    while i < len(arr1):\n",
    "        arr[k] = arr1[i]\n",
    "        i+=1\n",
    "        k+=1\n",
    "        \n",
    "    while j < len(arr2):\n",
    "        arr[k] = arr2[j]\n",
    "        j+=1\n",
    "        k+=1\n",
    "        \n",
    "def ms(arr):\n",
    "    if len(arr) == 0 or len(arr) == 1:\n",
    "        return\n",
    "    mid = len(arr)//2\n",
    "    arr1 = arr[0:mid]\n",
    "    arr2 = arr[mid:]\n",
    "    ms(arr1)\n",
    "    ms(arr2)\n",
    "    mtsr(arr1,arr2,arr)\n",
    "\n",
    "ms(arr)\n",
    "print(arr)\n"
   ]
  },
  {
   "cell_type": "code",
   "execution_count": 17,
   "id": "bed105b3",
   "metadata": {},
   "outputs": [
    {
     "data": {
      "text/plain": [
       "1024"
      ]
     },
     "execution_count": 17,
     "metadata": {},
     "output_type": "execute_result"
    }
   ],
   "source": [
    "def pw(a,x):\n",
    "    res = 1\n",
    "    while x > 0:\n",
    "        if x & 1:\n",
    "            res = res * a\n",
    "        a = a * a\n",
    "        x>>=1\n",
    "    return res\n",
    "\n",
    "pw(2,10)"
   ]
  },
  {
   "cell_type": "code",
   "execution_count": 10,
   "id": "83ba9dd0",
   "metadata": {},
   "outputs": [
    {
     "data": {
      "text/plain": [
       "1024"
      ]
     },
     "execution_count": 10,
     "metadata": {},
     "output_type": "execute_result"
    }
   ],
   "source": [
    "def pw2(x,n):\n",
    "    if n == 0:\n",
    "        return 1\n",
    "    r1 = pw2(x,n//2)\n",
    "    if n & 1:\n",
    "        return  r1 * r1 *  x\n",
    "    else:\n",
    "        return r1 * r1\n",
    "pw2(2,10)"
   ]
  },
  {
   "cell_type": "code",
   "execution_count": 11,
   "id": "2aa4b240",
   "metadata": {},
   "outputs": [],
   "source": [
    "def findUnique(arr, n) :\n",
    "    dd = {}\n",
    "    last_num = arr[0]\n",
    "    for i in range(len(arr)):\n",
    "        if arr[i] in dd:\n",
    "            dd[arr[i]]+=1\n",
    "        else:\n",
    "            dd[arr[i]] = 1\n",
    "            last_num = arr[i]\n",
    "        if i == len(arr)-1:\n",
    "            return last_num\n",
    "    return -1\n",
    "            "
   ]
  },
  {
   "cell_type": "code",
   "execution_count": 15,
   "id": "a585a0f4",
   "metadata": {},
   "outputs": [],
   "source": [
    "def findDuplicate(arr, n) :\n",
    "    dd = {}\n",
    "    last_num = arr[0]\n",
    "    for i in range(len(arr)):\n",
    "        if arr[i] in dd:\n",
    "            dd[arr[i]]+=1\n",
    "            last_num = arr[i]\n",
    "        else:\n",
    "            dd[arr[i]] = 1\n",
    "        if i == len(arr)-1:\n",
    "            return last_num\n",
    "    return -1"
   ]
  },
  {
   "cell_type": "code",
   "execution_count": null,
   "id": "461eccb7",
   "metadata": {},
   "outputs": [],
   "source": []
  }
 ],
 "metadata": {
  "kernelspec": {
   "display_name": "Python 3 (ipykernel)",
   "language": "python",
   "name": "python3"
  },
  "language_info": {
   "codemirror_mode": {
    "name": "ipython",
    "version": 3
   },
   "file_extension": ".py",
   "mimetype": "text/x-python",
   "name": "python",
   "nbconvert_exporter": "python",
   "pygments_lexer": "ipython3",
   "version": "3.9.7"
  }
 },
 "nbformat": 4,
 "nbformat_minor": 5
}
