{
 "cells": [
  {
   "cell_type": "code",
   "execution_count": 17,
   "metadata": {},
   "outputs": [
    {
     "name": "stdout",
     "output_type": "stream",
     "text": [
      "many "
     ]
    }
   ],
   "source": [
    "def print_all_with_freq_k(ip,k):\n",
    "    data = ip.split()\n",
    "    dd = {}\n",
    "    for i in data:\n",
    "        dd[i] = dd.get(i,0) + 1\n",
    "    for key,value in dd.items():\n",
    "        if value == k:\n",
    "            print(key,end=\" \")\n",
    "\n",
    "print_all_with_freq_k(\"This is a string having many many words\",2)\n",
    "        "
   ]
  },
  {
   "cell_type": "code",
   "execution_count": null,
   "metadata": {},
   "outputs": [],
   "source": [
    "from sys import stdin\n",
    "def maxfreq(arr):\n",
    "    dd = {}\n",
    "    for i in arr:\n",
    "        dd[i] = dd.get(i,0) + 1\n",
    "\n",
    "    max_val = max(dd.values())\n",
    "\n",
    "    for i in arr:\n",
    "        if dd[i] == max_val:\n",
    "            return i\n",
    "    \n",
    "    \n",
    "def takeInput():\n",
    "    #To take fast I/O\n",
    "    n=int(stdin.readline().strip())\n",
    "    if n==0:\n",
    "        return list(),0\n",
    "    arr=list(map(int,stdin.readline().strip().split( )))\n",
    "    return arr,n\n",
    "\n",
    "arr,n=takeInput()\n",
    "print(maxfreq(arr))"
   ]
  }
 ],
 "metadata": {
  "interpreter": {
   "hash": "916dbcbb3f70747c44a77c7bcd40155683ae19c65e1c03b4aa3499c5328201f1"
  },
  "kernelspec": {
   "display_name": "Python 3.10.4 64-bit",
   "language": "python",
   "name": "python3"
  },
  "language_info": {
   "codemirror_mode": {
    "name": "ipython",
    "version": 3
   },
   "file_extension": ".py",
   "mimetype": "text/x-python",
   "name": "python",
   "nbconvert_exporter": "python",
   "pygments_lexer": "ipython3",
   "version": "3.10.4"
  },
  "orig_nbformat": 4
 },
 "nbformat": 4,
 "nbformat_minor": 2
}
