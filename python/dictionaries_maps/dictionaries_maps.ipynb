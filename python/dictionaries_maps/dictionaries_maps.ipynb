{
 "cells": [
  {
   "cell_type": "code",
   "execution_count": null,
   "metadata": {},
   "outputs": [],
   "source": [
    "class Map:\n",
    "    def __init__(self):\n",
    "        self.bucket_size = 10\n",
    "        self.buckets = [None for i in range(self.bucket_size)]\n",
    "        self.count = 0\n",
    "    \n",
    "    def size(self):\n",
    "        return self.count\n",
    "\n",
    "    def get_bucket_index(self, hash_code):\n",
    "        return (abs(hash_code) % self.bucket_size)\n",
    "\n",
    "    def insert(self,key,value):\n",
    "        hash_code = hash(key)\n",
    "        bucket_index = self.get_bucket_index(hash_code=hash_code)\n",
    "        \n",
    "\n",
    "    def remove(self,key):\n",
    "        pass\n",
    "\n",
    "    def search(key):\n",
    "        pass\n",
    "\n",
    "class MapNode:\n",
    "    def __init__(self,key,value):\n",
    "        self.key = key\n",
    "        self.value = value\n",
    "        self.next = next "
   ]
  },
  {
   "cell_type": "code",
   "execution_count": null,
   "metadata": {},
   "outputs": [],
   "source": [
    "def print_all_with_freq_k(ip,k):\n",
    "    data = ip.split()\n",
    "    dd = {}\n",
    "    for i in data:\n",
    "        dd[i] = dd.get(i,0) + 1\n",
    "    for key,value in dd.items():\n",
    "        if value == k:\n",
    "            print(key,end=\" \")\n",
    "\n",
    "print_all_with_freq_k(\"This is a string having many many words\",2)\n",
    "        "
   ]
  },
  {
   "cell_type": "code",
   "execution_count": null,
   "metadata": {},
   "outputs": [],
   "source": [
    "from sys import stdin\n",
    "def maxfreq(arr):\n",
    "    dd = {}\n",
    "    for i in arr:\n",
    "        dd[i] = dd.get(i,0) + 1\n",
    "\n",
    "    max_val = max(dd.values())\n",
    "\n",
    "    for i in arr:\n",
    "        if dd[i] == max_val:\n",
    "            return i\n",
    "    \n",
    "    \n",
    "def takeInput():\n",
    "    #To take fast I/O\n",
    "    n=int(stdin.readline().strip())\n",
    "    if n==0:\n",
    "        return list(),0\n",
    "    arr=list(map(int,stdin.readline().strip().split( )))\n",
    "    return arr,n\n",
    "\n",
    "arr,n=takeInput()\n",
    "print(maxfreq(arr))"
   ]
  },
  {
   "cell_type": "code",
   "execution_count": null,
   "metadata": {},
   "outputs": [],
   "source": [
    "from sys import stdin\n",
    "from math import factorial\n",
    "\n",
    "def helper(n):\n",
    "    ans = 0\n",
    "    if n != 1:\n",
    "        ans = (factorial(n) // (factorial(2) * factorial(n-2)))\n",
    "    return int(ans)\n",
    "\n",
    "def pairSum0(l,n):\n",
    "    dd = {}\n",
    "    for i in l:\n",
    "        dd[i] = dd.get(i,0) + 1\n",
    "        \n",
    "    cnt = 0\n",
    "    for k,v in dd.items():\n",
    "        if k > 0 and -k in dd:\n",
    "            cnt = cnt + (dd[k] * dd[-k]) \n",
    "        elif k == 0:\n",
    "            cnt = cnt + helper(v) \n",
    "    return cnt\n",
    "    \n",
    "def takeInput():\n",
    "    #To take fast I/O\n",
    "    n=int(stdin.readline().strip())\n",
    "    if n==0:\n",
    "        return list(),0\n",
    "    arr=list(map(int,stdin.readline().strip().split( )))\n",
    "    return arr,n\n",
    "\n",
    "arr,n=takeInput()\n",
    "print(pairSum0(arr,n))"
   ]
  },
  {
   "cell_type": "code",
   "execution_count": 13,
   "metadata": {},
   "outputs": [
    {
     "name": "stdout",
     "output_type": "stream",
     "text": [
      "1485797520056365209\n"
     ]
    }
   ],
   "source": []
  }
 ],
 "metadata": {
  "interpreter": {
   "hash": "916dbcbb3f70747c44a77c7bcd40155683ae19c65e1c03b4aa3499c5328201f1"
  },
  "kernelspec": {
   "display_name": "Python 3.10.4 64-bit",
   "language": "python",
   "name": "python3"
  },
  "language_info": {
   "codemirror_mode": {
    "name": "ipython",
    "version": 3
   },
   "file_extension": ".py",
   "mimetype": "text/x-python",
   "name": "python",
   "nbconvert_exporter": "python",
   "pygments_lexer": "ipython3",
   "version": "3.10.4"
  },
  "orig_nbformat": 4
 },
 "nbformat": 4,
 "nbformat_minor": 2
}
