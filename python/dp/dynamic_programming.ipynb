{
 "cells": [
  {
   "cell_type": "code",
   "execution_count": 6,
   "metadata": {},
   "outputs": [
    {
     "data": {
      "text/plain": [
       "2"
      ]
     },
     "execution_count": 6,
     "metadata": {},
     "output_type": "execute_result"
    }
   ],
   "source": [
    "def countMinStepsToOne_recursive(n):\n",
    "    if n == 1:\n",
    "        return 0\n",
    "    ans1,ans2,ans3 = n+1,n+1,n+1\n",
    "    if n % 3 == 0:\n",
    "        ans1 = countMinStepsToOne_recursive(n//3)\n",
    "    if n % 2 == 0:\n",
    "        ans2 = countMinStepsToOne_recursive(n//2)\n",
    "    ans3 = countMinStepsToOne_recursive(n-1)\n",
    "    return 1+min(ans1,ans2,ans3)\n",
    "\n",
    "countMinStepsToOne_recursive(4)"
   ]
  },
  {
   "cell_type": "code",
   "execution_count": 15,
   "metadata": {},
   "outputs": [
    {
     "data": {
      "text/plain": [
       "3"
      ]
     },
     "execution_count": 15,
     "metadata": {},
     "output_type": "execute_result"
    }
   ],
   "source": [
    "# memoization Solution\n",
    "import sys\n",
    "def countMinStepsToOne_memoized(n,dp):\n",
    "    if n == 1:\n",
    "        return 0\n",
    "    ans1,ans2,ans3 = sys.maxsize,sys.maxsize,sys.maxsize\n",
    "    \n",
    "    if dp[n-1] == -1:\n",
    "        ans1 = countMinStepsToOne_memoized(n-1,dp)\n",
    "        dp[n-1] = ans1\n",
    "    else:\n",
    "        ans1 = dp[n-1]\n",
    "\n",
    "    if n %2 == 0:\n",
    "        if dp[n//2] == -1:\n",
    "            ans2 = countMinStepsToOne_memoized(n//2,dp)\n",
    "            dp[n//2] = ans2\n",
    "        else:\n",
    "            ans2 = dp[n//2]\n",
    "\n",
    "    if n %3 == 0:\n",
    "        if dp[n//3] == -1:\n",
    "            ans3 = countMinStepsToOne_memoized(n//3,dp)\n",
    "            dp[n//3] = ans3\n",
    "        else:\n",
    "            ans3 = dp[n//3]\n",
    "\n",
    "    return 1 + min(ans1,ans2,ans3)\n",
    "countMinStepsToOne_memoized(7,[-1 for i in range(8)])"
   ]
  },
  {
   "cell_type": "code",
   "execution_count": 19,
   "metadata": {},
   "outputs": [
    {
     "data": {
      "text/plain": [
       "3"
      ]
     },
     "execution_count": 19,
     "metadata": {},
     "output_type": "execute_result"
    }
   ],
   "source": [
    "def countMinStepsToOne(n):\n",
    "    if n == 1:\n",
    "        return 0\n",
    "    dp = [0 for i in range(n+1)]\n",
    "    for i in range(2,n+1):\n",
    "        res = dp[i-1]\n",
    "        if i %2 == 0:\n",
    "            res = min(res,dp[n//2])\n",
    "        if i %3 == 0:\n",
    "            res = min(res,dp[n//3])\n",
    "        dp[i] = 1 + res\n",
    "    return dp[n]\n",
    "countMinStepsToOne(7)"
   ]
  },
  {
   "cell_type": "code",
   "execution_count": 40,
   "metadata": {},
   "outputs": [
    {
     "data": {
      "text/plain": [
       "7"
      ]
     },
     "execution_count": 40,
     "metadata": {},
     "output_type": "execute_result"
    }
   ],
   "source": [
    "def staircase_recursive(n):\n",
    "    if n == 0:\n",
    "        return 1\n",
    "    elif n < 0:\n",
    "        return 0\n",
    "    a1 = staircase_recursive(n-1)\n",
    "    a2 = staircase_recursive(n-2)\n",
    "    a3 = staircase_recursive(n-3)\n",
    "    return a1 + a2 + a3\n",
    "staircase_recursive(4)"
   ]
  },
  {
   "cell_type": "code",
   "execution_count": 46,
   "metadata": {},
   "outputs": [
    {
     "name": "stdout",
     "output_type": "stream",
     "text": [
      "13\n"
     ]
    }
   ],
   "source": [
    "# memoized solution\n",
    "def staircase_memoized(n,dp):\n",
    "    if n == 0 or n == 1:\n",
    "        return 1\n",
    "    elif n < 0:\n",
    "        return 0\n",
    "        \n",
    "    if dp[n-1] == -1:\n",
    "        a1 = staircase_memoized(n-1,dp)\n",
    "        dp[n-1] = a1\n",
    "    else:\n",
    "        a1 = dp[n-1]\n",
    "\n",
    "    if dp[n-2] == -1:\n",
    "        a2 = staircase_memoized(n-2,dp)\n",
    "        dp[n-2] = a2\n",
    "    else:\n",
    "        a2 = dp[n-2]\n",
    "\n",
    "    if dp[n-3] == -1:\n",
    "        a3 = staircase_memoized(n-3,dp)\n",
    "        dp[n-3] = a3\n",
    "    else:\n",
    "        a3 = dp[n-3]\n",
    "    return a1 + a2 + a3\n",
    "n = int(input())\n",
    "print(staircase_memoized(n,[-1 for i in range(n+1)]))"
   ]
  },
  {
   "cell_type": "code",
   "execution_count": 61,
   "metadata": {},
   "outputs": [
    {
     "name": "stdout",
     "output_type": "stream",
     "text": [
      "13\n"
     ]
    }
   ],
   "source": [
    "def staircase_dp(n):\n",
    "    if n == 0 or n == 1:\n",
    "        return 1\n",
    "    elif n < 0:\n",
    "        return 0\n",
    "    dp = [0 for i in range(n+1)]\n",
    "    dp[0] = 1\n",
    "    dp[1] = 1\n",
    "    for i in range(2,n+1):\n",
    "        res = dp[i-1] + dp[i-2] + dp[i-3]\n",
    "        dp[i] = res\n",
    "    return dp[n]\n",
    "\n",
    "n = int(input())\n",
    "print(staircase_dp(n))"
   ]
  },
  {
   "cell_type": "code",
   "execution_count": 37,
   "metadata": {},
   "outputs": [
    {
     "data": {
      "text/plain": [
       "2"
      ]
     },
     "execution_count": 37,
     "metadata": {},
     "output_type": "execute_result"
    }
   ],
   "source": [
    "import math, sys\n",
    "def minCount_recursive(n) :\n",
    "\tif n == 0:\n",
    "\t\treturn 0\n",
    "\tans = sys.maxsize\n",
    "\tl = int(math.sqrt(n))\n",
    "\tfor i in range(1,l+1):\n",
    "\t\tsmall_calc = n - (i*i)\n",
    "\t\tsmall_output = 1 + minCount_recursive(small_calc)\n",
    "\t\tans = min(ans,small_output)\n",
    "\treturn ans\n",
    "\n",
    "minCount_recursive(int(input()))\n"
   ]
  },
  {
   "cell_type": "code",
   "execution_count": 51,
   "metadata": {},
   "outputs": [
    {
     "ename": "IndexError",
     "evalue": "list index out of range",
     "output_type": "error",
     "traceback": [
      "\u001b[0;31m---------------------------------------------------------------------------\u001b[0m",
      "\u001b[0;31mIndexError\u001b[0m                                Traceback (most recent call last)",
      "\u001b[1;32m/home/ubuntu/cp_ninja/python/dp/dynamic_programming.ipynb Cell 8'\u001b[0m in \u001b[0;36m<cell line: 17>\u001b[0;34m()\u001b[0m\n\u001b[1;32m     <a href='vscode-notebook-cell:/home/ubuntu/cp_ninja/python/dp/dynamic_programming.ipynb#ch0000008?line=14'>15</a>\u001b[0m     \u001b[39mreturn\u001b[39;00m ans\n\u001b[1;32m     <a href='vscode-notebook-cell:/home/ubuntu/cp_ninja/python/dp/dynamic_programming.ipynb#ch0000008?line=15'>16</a>\u001b[0m l \u001b[39m=\u001b[39m \u001b[39mint\u001b[39m(math\u001b[39m.\u001b[39msqrt(n))\n\u001b[0;32m---> <a href='vscode-notebook-cell:/home/ubuntu/cp_ninja/python/dp/dynamic_programming.ipynb#ch0000008?line=16'>17</a>\u001b[0m minCount(\u001b[39m41\u001b[39;49m,[\u001b[39m-\u001b[39;49m\u001b[39m1\u001b[39;49m \u001b[39mfor\u001b[39;49;00m i \u001b[39min\u001b[39;49;00m \u001b[39mrange\u001b[39;49m(n\u001b[39m+\u001b[39;49m\u001b[39m1\u001b[39;49m)])\n",
      "\u001b[1;32m/home/ubuntu/cp_ninja/python/dp/dynamic_programming.ipynb Cell 8'\u001b[0m in \u001b[0;36mminCount\u001b[0;34m(n, dp)\u001b[0m\n\u001b[1;32m      <a href='vscode-notebook-cell:/home/ubuntu/cp_ninja/python/dp/dynamic_programming.ipynb#ch0000008?line=6'>7</a>\u001b[0m \u001b[39mfor\u001b[39;00m i \u001b[39min\u001b[39;00m \u001b[39mrange\u001b[39m(\u001b[39m1\u001b[39m,l\u001b[39m+\u001b[39m\u001b[39m1\u001b[39m):\n\u001b[1;32m      <a href='vscode-notebook-cell:/home/ubuntu/cp_ninja/python/dp/dynamic_programming.ipynb#ch0000008?line=7'>8</a>\u001b[0m     small_calc \u001b[39m=\u001b[39m n \u001b[39m-\u001b[39m (i\u001b[39m*\u001b[39m\u001b[39m*\u001b[39m\u001b[39m2\u001b[39m)\n\u001b[0;32m----> <a href='vscode-notebook-cell:/home/ubuntu/cp_ninja/python/dp/dynamic_programming.ipynb#ch0000008?line=8'>9</a>\u001b[0m     \u001b[39mif\u001b[39;00m dp[small_calc] \u001b[39m==\u001b[39m \u001b[39m-\u001b[39m\u001b[39m1\u001b[39m:\n\u001b[1;32m     <a href='vscode-notebook-cell:/home/ubuntu/cp_ninja/python/dp/dynamic_programming.ipynb#ch0000008?line=9'>10</a>\u001b[0m         small_output \u001b[39m=\u001b[39m \u001b[39m1\u001b[39m \u001b[39m+\u001b[39m minCount(small_calc,dp),\n\u001b[1;32m     <a href='vscode-notebook-cell:/home/ubuntu/cp_ninja/python/dp/dynamic_programming.ipynb#ch0000008?line=10'>11</a>\u001b[0m         dp[small_calc] \u001b[39m=\u001b[39m small_output\n",
      "\u001b[0;31mIndexError\u001b[0m: list index out of range"
     ]
    }
   ],
   "source": [
    "import math, sys\n",
    "def minCount(n,dp):\n",
    "    if n == 0:\n",
    "        return 0\n",
    "    ans = sys.maxsize\n",
    "    l = int(math.sqrt(n))\n",
    "    for i in range(1,l+1):\n",
    "        small_calc = n - (i**2)\n",
    "        if dp[small_calc] == -1:\n",
    "            small_output = minCount(small_calc,dp),\n",
    "            dp[small_calc] = small_output\n",
    "            currentAns = 1+small_output\n",
    "        else:\n",
    "            small_output = dp[small_calc]\n",
    "        ans = min(ans,small_output)\n",
    "    return ans\n",
    "l = int(math.sqrt(n))\n",
    "minCount(41,[-1 for i in range(n+1)])"
   ]
  },
  {
   "cell_type": "code",
   "execution_count": null,
   "metadata": {},
   "outputs": [],
   "source": []
  }
 ],
 "metadata": {
  "interpreter": {
   "hash": "31f2aee4e71d21fbe5cf8b01ff0e069b9275f58929596ceb00d14d90e3e16cd6"
  },
  "kernelspec": {
   "display_name": "Python 3.9.7 64-bit",
   "language": "python",
   "name": "python3"
  },
  "language_info": {
   "codemirror_mode": {
    "name": "ipython",
    "version": 3
   },
   "file_extension": ".py",
   "mimetype": "text/x-python",
   "name": "python",
   "nbconvert_exporter": "python",
   "pygments_lexer": "ipython3",
   "version": "3.9.7"
  },
  "orig_nbformat": 4
 },
 "nbformat": 4,
 "nbformat_minor": 2
}
