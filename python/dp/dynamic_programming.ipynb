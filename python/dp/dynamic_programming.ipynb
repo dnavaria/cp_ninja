{
 "cells": [
  {
   "cell_type": "code",
   "execution_count": 6,
   "metadata": {},
   "outputs": [
    {
     "data": {
      "text/plain": [
       "2"
      ]
     },
     "execution_count": 6,
     "metadata": {},
     "output_type": "execute_result"
    }
   ],
   "source": [
    "def countMinStepsToOne_recursive(n):\n",
    "    if n == 1:\n",
    "        return 0\n",
    "    ans1,ans2,ans3 = n+1,n+1,n+1\n",
    "    if n % 3 == 0:\n",
    "        ans1 = countMinStepsToOne_recursive(n//3)\n",
    "    if n % 2 == 0:\n",
    "        ans2 = countMinStepsToOne_recursive(n//2)\n",
    "    ans3 = countMinStepsToOne_recursive(n-1)\n",
    "    return 1+min(ans1,ans2,ans3)\n",
    "\n",
    "countMinStepsToOne_recursive(4)"
   ]
  },
  {
   "cell_type": "code",
   "execution_count": 15,
   "metadata": {},
   "outputs": [
    {
     "data": {
      "text/plain": [
       "3"
      ]
     },
     "execution_count": 15,
     "metadata": {},
     "output_type": "execute_result"
    }
   ],
   "source": [
    "# memoization Solution\n",
    "import sys\n",
    "def countMinStepsToOne_memoized(n,dp):\n",
    "    if n == 1:\n",
    "        return 0\n",
    "    ans1,ans2,ans3 = sys.maxsize,sys.maxsize,sys.maxsize\n",
    "    \n",
    "    if dp[n-1] == -1:\n",
    "        ans1 = countMinStepsToOne_memoized(n-1,dp)\n",
    "        dp[n-1] = ans1\n",
    "    else:\n",
    "        ans1 = dp[n-1]\n",
    "\n",
    "    if n %2 == 0:\n",
    "        if dp[n//2] == -1:\n",
    "            ans2 = countMinStepsToOne_memoized(n//2,dp)\n",
    "            dp[n//2] = ans2\n",
    "        else:\n",
    "            ans2 = dp[n//2]\n",
    "\n",
    "    if n %3 == 0:\n",
    "        if dp[n//3] == -1:\n",
    "            ans3 = countMinStepsToOne_memoized(n//3,dp)\n",
    "            dp[n//3] = ans3\n",
    "        else:\n",
    "            ans3 = dp[n//3]\n",
    "\n",
    "    return 1 + min(ans1,ans2,ans3)\n",
    "countMinStepsToOne_memoized(7,[-1 for i in range(8)])"
   ]
  },
  {
   "cell_type": "markdown",
   "metadata": {},
   "source": []
  },
  {
   "cell_type": "code",
   "execution_count": 19,
   "metadata": {},
   "outputs": [
    {
     "data": {
      "text/plain": [
       "3"
      ]
     },
     "execution_count": 19,
     "metadata": {},
     "output_type": "execute_result"
    }
   ],
   "source": [
    "def countMinStepsToOne(n):\n",
    "    if n == 1:\n",
    "        return 0\n",
    "    dp = [0 for i in range(n+1)]\n",
    "    for i in range(2,n+1):\n",
    "        res = dp[i-1]\n",
    "        if i %2 == 0:\n",
    "            res = min(res,dp[n//2])\n",
    "        if i %3 == 0:\n",
    "            res = min(res,dp[n//3])\n",
    "        dp[i] = 1 + res\n",
    "    return dp[n]\n",
    "countMinStepsToOne(7)"
   ]
  },
  {
   "cell_type": "code",
   "execution_count": 40,
   "metadata": {},
   "outputs": [
    {
     "data": {
      "text/plain": [
       "7"
      ]
     },
     "execution_count": 40,
     "metadata": {},
     "output_type": "execute_result"
    }
   ],
   "source": [
    "def staircase_recursive(n):\n",
    "    if n == 0:\n",
    "        return 1\n",
    "    elif n < 0:\n",
    "        return 0\n",
    "    a1 = staircase_recursive(n-1)\n",
    "    a2 = staircase_recursive(n-2)\n",
    "    a3 = staircase_recursive(n-3)\n",
    "    return a1 + a2 + a3\n",
    "staircase_recursive(4)"
   ]
  },
  {
   "cell_type": "code",
   "execution_count": 46,
   "metadata": {},
   "outputs": [
    {
     "name": "stdout",
     "output_type": "stream",
     "text": [
      "13\n"
     ]
    }
   ],
   "source": [
    "# memoized solution\n",
    "def staircase_memoized(n,dp):\n",
    "    if n == 0 or n == 1:\n",
    "        return 1\n",
    "    elif n < 0:\n",
    "        return 0\n",
    "        \n",
    "    if dp[n-1] == -1:\n",
    "        a1 = staircase_memoized(n-1,dp)\n",
    "        dp[n-1] = a1\n",
    "    else:\n",
    "        a1 = dp[n-1]\n",
    "\n",
    "    if dp[n-2] == -1:\n",
    "        a2 = staircase_memoized(n-2,dp)\n",
    "        dp[n-2] = a2\n",
    "    else:\n",
    "        a2 = dp[n-2]\n",
    "\n",
    "    if dp[n-3] == -1:\n",
    "        a3 = staircase_memoized(n-3,dp)\n",
    "        dp[n-3] = a3\n",
    "    else:\n",
    "        a3 = dp[n-3]\n",
    "    return a1 + a2 + a3\n",
    "n = int(input())\n",
    "print(staircase_memoized(n,[-1 for i in range(n+1)]))"
   ]
  },
  {
   "cell_type": "code",
   "execution_count": 61,
   "metadata": {},
   "outputs": [
    {
     "name": "stdout",
     "output_type": "stream",
     "text": [
      "13\n"
     ]
    }
   ],
   "source": [
    "def staircase_dp(n):\n",
    "    if n == 0 or n == 1:\n",
    "        return 1\n",
    "    elif n < 0:\n",
    "        return 0\n",
    "    dp = [0 for i in range(n+1)]\n",
    "    dp[0] = 1\n",
    "    dp[1] = 1\n",
    "    for i in range(2,n+1):\n",
    "        res = dp[i-1] + dp[i-2] + dp[i-3]\n",
    "        dp[i] = res\n",
    "    return dp[n]\n",
    "\n",
    "n = int(input())\n",
    "print(staircase_dp(n))"
   ]
  },
  {
   "cell_type": "code",
   "execution_count": null,
   "metadata": {},
   "outputs": [],
   "source": [
    "def minCount(n) :\n",
    "\t#Your code goes here\n",
    "\n"
   ]
  }
 ],
 "metadata": {
  "interpreter": {
   "hash": "31f2aee4e71d21fbe5cf8b01ff0e069b9275f58929596ceb00d14d90e3e16cd6"
  },
  "kernelspec": {
   "display_name": "Python 3.9.7 64-bit",
   "language": "python",
   "name": "python3"
  },
  "language_info": {
   "codemirror_mode": {
    "name": "ipython",
    "version": 3
   },
   "file_extension": ".py",
   "mimetype": "text/x-python",
   "name": "python",
   "nbconvert_exporter": "python",
   "pygments_lexer": "ipython3",
   "version": "3.9.7"
  },
  "orig_nbformat": 4
 },
 "nbformat": 4,
 "nbformat_minor": 2
}
