{
 "cells": [
  {
   "cell_type": "code",
   "execution_count": 1,
   "metadata": {},
   "outputs": [],
   "source": [
    "def searchInBST(root, k):\n",
    "    if root == None:\n",
    "        return False\n",
    "    if root.data == k:\n",
    "        return True\n",
    "    lsearch = searchInBST(root.left,k)\n",
    "    rsearch = searchInBST(root.right,k)\n",
    "    return lsearch or rsearch"
   ]
  },
  {
   "cell_type": "code",
   "execution_count": null,
   "metadata": {},
   "outputs": [],
   "source": [
    "def elementsInRangeK1K2(root, k1, k2):\n",
    "    if root == None:\n",
    "        return\n",
    "    if root.data >= k1 and root.data <= k2:\n",
    "        print(root.data)\n",
    "    if root.data > k1:\n",
    "        elementsInRangeK1K2(root.right)\n",
    "    elif root.data < k1:\n",
    "        elementsInRangeK1K2(root.right)\n",
    "\n"
   ]
  }
 ],
 "metadata": {
  "interpreter": {
   "hash": "916dbcbb3f70747c44a77c7bcd40155683ae19c65e1c03b4aa3499c5328201f1"
  },
  "kernelspec": {
   "display_name": "Python 3.10.4 64-bit",
   "language": "python",
   "name": "python3"
  },
  "language_info": {
   "codemirror_mode": {
    "name": "ipython",
    "version": 3
   },
   "file_extension": ".py",
   "mimetype": "text/x-python",
   "name": "python",
   "nbconvert_exporter": "python",
   "pygments_lexer": "ipython3",
   "version": "3.10.4"
  },
  "orig_nbformat": 4
 },
 "nbformat": 4,
 "nbformat_minor": 2
}
