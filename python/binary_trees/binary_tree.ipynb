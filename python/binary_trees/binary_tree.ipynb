{
 "cells": [
  {
   "cell_type": "code",
   "execution_count": 1,
   "metadata": {},
   "outputs": [
    {
     "name": "stdout",
     "output_type": "stream",
     "text": [
      "12:L 11,R 13 \n",
      "11:L 16,\n",
      "16:\n",
      "13:L 15,\n",
      "15:\n"
     ]
    }
   ],
   "source": [
    "#Following the structure used for Binary Tree\n",
    "class BinaryTreeNode:\n",
    "    def __init__(self, data):\n",
    "        self.data = data\n",
    "        self.left = None\n",
    "        self.right = None\n",
    "\n",
    "def printTree(root):\n",
    "    if root == None:\n",
    "        return None\n",
    "    print(root.data, end=\":\")\n",
    "    if root.left != None:\n",
    "        print(\"L\",root.left.data,end=\",\")\n",
    "    if root.right != None:\n",
    "        print(\"R\",root.right.data,end=\" \")\n",
    "    print()\n",
    "\n",
    "    printTree(root.left)\n",
    "    printTree(root.right)\n",
    "\n",
    "def treeInput():\n",
    "    root_data = int(input())\n",
    "    if root_data == -1:\n",
    "        return None\n",
    "    root = BinaryTreeNode(root_data)\n",
    "    leftTree = treeInput()\n",
    "    rightTree = treeInput()\n",
    "    root.left = leftTree\n",
    "    root.right = rightTree\n",
    "    return root\n",
    "\n",
    "root = BinaryTreeNode(12)\n",
    "root.left = BinaryTreeNode(11)\n",
    "root.right = BinaryTreeNode(13)\n",
    "root.right.left = BinaryTreeNode(15)\n",
    "root.left.left = BinaryTreeNode(16)\n",
    "printTree(root)"
   ]
  },
  {
   "cell_type": "code",
   "execution_count": 19,
   "metadata": {},
   "outputs": [],
   "source": [
    "def number_of_nodes(root):\n",
    "    if root == None:\n",
    "        return 0\n",
    "    return 1 + number_of_nodes(root.left) + number_of_nodes(root.right)"
   ]
  },
  {
   "cell_type": "code",
   "execution_count": 35,
   "metadata": {},
   "outputs": [],
   "source": [
    "def number_of_leafs(root):\n",
    "    if root == None:\n",
    "        return 0\n",
    "    if root != None and root.left == None and root.right == None:\n",
    "        return 1\n",
    "    l_tree = number_of_leafs(root.left)\n",
    "    r_tree = number_of_leafs(root.right)\n",
    "    return l_tree + r_tree"
   ]
  },
  {
   "cell_type": "code",
   "execution_count": 38,
   "metadata": {},
   "outputs": [],
   "source": [
    "def max_node_data(root):\n",
    "    if root == None:\n",
    "        return -1\n",
    "    left_largest = max_node_data(root.left)\n",
    "    right_largest = max_node_data(root.right)\n",
    "    max_data = max(left_largest, right_largest,root.data)\n",
    "    return max_data\n"
   ]
  },
  {
   "cell_type": "code",
   "execution_count": 39,
   "metadata": {},
   "outputs": [],
   "source": [
    "def print_nodes_at_depth_k(root,k):\n",
    "    if root == None:\n",
    "        return\n",
    "    if k == 0:\n",
    "        print(root.data,end=\" \")\n",
    "    print_nodes_at_depth_k(root.left,k-1)\n",
    "    print_nodes_at_depth_k(root.right,k-1)"
   ]
  },
  {
   "cell_type": "code",
   "execution_count": 10,
   "metadata": {},
   "outputs": [],
   "source": [
    "def getSum(root):\n",
    "\t#Your code goes here\n",
    "    if root == None:\n",
    "        return 0\n",
    "    return root.data + getSum(root.left) + getSum(root.right)"
   ]
  },
  {
   "cell_type": "code",
   "execution_count": 2,
   "metadata": {},
   "outputs": [],
   "source": [
    "\n",
    "def preOrder(root):\n",
    "    if root == None:\n",
    "        return\n",
    "    print(root.data,end=\" \")\n",
    "    preOrder(root.left)\n",
    "    preOrder(root.right)"
   ]
  },
  {
   "cell_type": "code",
   "execution_count": 4,
   "metadata": {},
   "outputs": [],
   "source": [
    "def postOrder(root):\n",
    "    if root == None:\n",
    "        return\n",
    "    postOrder(root.left)\n",
    "    postOrder(root.right)\n",
    "    print(root.data,end=\" \")"
   ]
  },
  {
   "cell_type": "code",
   "execution_count": 5,
   "metadata": {},
   "outputs": [],
   "source": [
    "def countNodesGreaterThanX(root, x) :\n",
    "    if root == None:\n",
    "        return 0\n",
    "    lc = countNodesGreaterThanX(root.left,x)\n",
    "    rc = countNodesGreaterThanX(root.right,x)\n",
    "    if root.data > x:\n",
    "        return 1 + lc + rc\n",
    "    else:\n",
    "        return lc + rc"
   ]
  },
  {
   "cell_type": "code",
   "execution_count": 6,
   "metadata": {},
   "outputs": [],
   "source": [
    "def mirrorBinaryTree(root) :\n",
    "    if root == None:\n",
    "        return\n",
    "    if root.left != None and root.right != None:\n",
    "        root.left.data,root.right.data = root.right.data,root.left.data\n",
    "    elif root.left == None and root.right:\n",
    "        root.left = root.right\n",
    "\n",
    "        root.right = None\n",
    "    elif root.right == None and root.left:\n",
    "        root.right = root.left\n",
    "        root.left = None\n",
    "\n",
    "    mirrorBinaryTree(root.left)\n",
    "    mirrorBinaryTree(root.right)"
   ]
  },
  {
   "cell_type": "code",
   "execution_count": 7,
   "metadata": {},
   "outputs": [],
   "source": [
    "def isNodePresent(root, x):\n",
    "    if root == None:\n",
    "        return False\n",
    "    \n",
    "    if root.data == x:\n",
    "        return True\n",
    "    \n",
    "    return isNodePresent(root.left,x) or isNodePresent(root.right,x)"
   ]
  },
  {
   "cell_type": "code",
   "execution_count": 8,
   "metadata": {},
   "outputs": [],
   "source": [
    "def printNodesWithoutSibling(root) :\n",
    "    if root == None:\n",
    "        return \n",
    "    if root.left and root.right == None:\n",
    "        print(root.left.data,end=\" \")\n",
    "    elif root.right and root.left == None:\n",
    "        print(root.right.data,end=\" \")\n",
    "    printNodesWithoutSibling(root.left)\n",
    "    printNodesWithoutSibling(root.right)"
   ]
  },
  {
   "cell_type": "code",
   "execution_count": 9,
   "metadata": {},
   "outputs": [],
   "source": [
    "def height(root) :\n",
    "    if root == None:\n",
    "        return 0\n",
    "    leftHeight = 1 + height(root.left)\n",
    "    rightHeight = 1 + height(root.right)\n",
    "    return max(leftHeight,rightHeight)"
   ]
  },
  {
   "cell_type": "code",
   "execution_count": 43,
   "metadata": {},
   "outputs": [],
   "source": [
    "def helper(root,d):\n",
    "    if root == None:\n",
    "        return 0\n",
    "    root.data = d\n",
    "    helper(root.left,d+1)\n",
    "    helper(root.right,d+1)\n",
    "\n",
    "def changeToDepthTree(root) :\n",
    "    return helper(root,0)    \n",
    "    "
   ]
  },
  {
   "cell_type": "code",
   "execution_count": 1,
   "metadata": {},
   "outputs": [],
   "source": [
    "def remove_leaf_nodes(root):\n",
    "    if root == None:\n",
    "        return\n",
    "    if root.left != None and root.left.left == None and root.left.right == None:\n",
    "        root.left = None\n",
    "    if root.right != None and root.right.left == None and root.right.right == None:\n",
    "        root.right = None\n",
    "    remove_leaf_nodes(root.left)\n",
    "    remove_leaf_nodes(root.right)"
   ]
  },
  {
   "cell_type": "code",
   "execution_count": 7,
   "metadata": {},
   "outputs": [],
   "source": [
    "def remove_leaf_nodes_alt(root):\n",
    "    if root == None:\n",
    "        return None\n",
    "    if root.left == None and root.right == None:\n",
    "        return None\n",
    "    root.left = remove_leaf_nodes_alt(root.left)\n",
    "    root.right = remove_leaf_nodes_alt(root.right)\n",
    "    return root"
   ]
  },
  {
   "cell_type": "code",
   "execution_count": 1,
   "metadata": {},
   "outputs": [],
   "source": [
    "def height(root):\n",
    "    if root == None:\n",
    "        return 0\n",
    "    return 1 + max( height(root.left), height(root.right))\n",
    "    \n",
    "def is_balanced(root):\n",
    "    if root == None:\n",
    "        return True\n",
    "\n",
    "    l_tree_height = height(root.left)\n",
    "    r_tree_height = height(root.right)\n",
    "\n",
    "    if l_tree_height - r_tree_height > 1 or  r_tree_height - l_tree_height  > 1:\n",
    "        return False\n",
    "\n",
    "    isleftBalanced = is_balanced(root.left)\n",
    "    isRightBalanced = is_balanced(root.right)\n",
    "\n",
    "    if isleftBalanced and isRightBalanced:\n",
    "        return True\n",
    "    else:\n",
    "        return False\n",
    "    "
   ]
  },
  {
   "cell_type": "code",
   "execution_count": 2,
   "metadata": {},
   "outputs": [],
   "source": [
    "def is_balanced_optimized(root):\n",
    "    if root == None:\n",
    "        return True,0\n",
    "\n",
    "    lh,isLeftBalanced = is_balanced_optimized(root.left)\n",
    "    rh,isRightBalanced = is_balanced_optimized(root.right)\n",
    "\n",
    "    tree_height = 1 + max(lh,rh)\n",
    "\n",
    "    if lh - rh > 1 or rh - lh > 1:\n",
    "        return False,tree_height\n",
    "        \n",
    "    if isLeftBalanced and isRightBalanced:\n",
    "        return True,tree_height\n",
    "    else:\n",
    "        False,tree_height\n"
   ]
  },
  {
   "cell_type": "code",
   "execution_count": 4,
   "metadata": {},
   "outputs": [],
   "source": [
    "def helper(root) :\n",
    "\n",
    "    if root == None:\n",
    "        return 0,0\n",
    "\n",
    "    leftHeight,leftDiameter = helper(root.left)\n",
    "    rightHeight, rightDiameter = helper(root.right)\n",
    "\n",
    "    tree_height = 1 + max(leftHeight,rightHeight)\n",
    "    diameter = max(leftDiameter,rightDiameter,1 + leftHeight+rightHeight)\n",
    "\n",
    "    return tree_height,diameter\n",
    "\n",
    "def diameterOfBinaryTree(root):\n",
    "    th,td = helper(root)\n",
    "    return td\n"
   ]
  },
  {
   "cell_type": "code",
   "execution_count": 4,
   "metadata": {},
   "outputs": [
    {
     "name": "stdout",
     "output_type": "stream",
     "text": [
      "Enter root\n",
      "Enter left child of  1\n",
      "Enter right child of  1\n",
      "Enter left child of  2\n",
      "Enter right child of  2\n",
      "Enter left child of  3\n",
      "Enter right child of  3\n",
      "1:L 2,R 3 \n",
      "2:\n",
      "3:\n"
     ]
    }
   ],
   "source": [
    "import queue\n",
    "def take_input_level_wise():\n",
    "    q = queue.Queue()\n",
    "\n",
    "    print(\"Enter root\")\n",
    "    root_data = int(input())\n",
    "    if root_data == -1:\n",
    "        return None\n",
    "\n",
    "    root = BinaryTreeNode(root_data)\n",
    "    q.put(root)\n",
    "    \n",
    "    while (not q.empty()):\n",
    "        current_node = q.get()\n",
    "        print(\"Enter left child of \",current_node.data)\n",
    "        left_child_data = int(input())\n",
    "        if left_child_data != -1:\n",
    "            left_child = BinaryTreeNode(left_child_data)\n",
    "            current_node.left = left_child\n",
    "            q.put(left_child)\n",
    "        print(\"Enter right child of \",current_node.data)\n",
    "        right_child_data = int(input())\n",
    "        if right_child_data != -1:\n",
    "            right_child = BinaryTreeNode(right_child_data)\n",
    "            current_node.right = right_child\n",
    "            q.put(right_child)\n",
    "    return root\n",
    "\n",
    "root = take_input_level_wise()\n",
    "printTree(root)\n",
    "\n"
   ]
  },
  {
   "cell_type": "code",
   "execution_count": 12,
   "metadata": {},
   "outputs": [],
   "source": [
    "def printLevelWise_detailed(root):\n",
    "    if root == None:\n",
    "        return\n",
    "    q = queue.Queue()\n",
    "    q.put(root)\n",
    "    while (not q.empty()):\n",
    "        current_node = q.get()\n",
    "        print(current_node.data,end=\":\")\n",
    "        if current_node.left != None:\n",
    "            print(\"L:{}\".format(current_node.left.data),end=\",\")\n",
    "            q.put(current_node.left)\n",
    "        else:\n",
    "            print(\"L:-1\",end=\",\")\n",
    "        \n",
    "        if current_node.right != None:\n",
    "            print(\"R:{}\".format(current_node.right.data))\n",
    "            q.put(current_node.right)\n",
    "        else:\n",
    "            print(\"R:-1\")"
   ]
  },
  {
   "cell_type": "code",
   "execution_count": 13,
   "metadata": {},
   "outputs": [],
   "source": [
    "def printLevelWise(root):\n",
    "    if root == None:\n",
    "        return\n",
    "    q = queue.Queue()\n",
    "    q.put(root)\n",
    "    q.put(None)\n",
    "    while (not q.empty()):\n",
    "        if q.qsize() == 1 and current_node == None:\n",
    "            break\n",
    "        current_node = q.get()\n",
    "        if current_node == None:\n",
    "            q.put(None)\n",
    "            print()\n",
    "            continue\n",
    "        else:\n",
    "            print(current_node.data,end=\" \")\n",
    "        \n",
    "        if current_node.left != None:\n",
    "            q.put(current_node.left)\n",
    "\n",
    "        if current_node.right != None:\n",
    "            q.put(current_node.right)"
   ]
  },
  {
   "cell_type": "code",
   "execution_count": null,
   "metadata": {},
   "outputs": [],
   "source": [
    "def insertDuplicateNode(root):\n",
    "    if root == None:\n",
    "        return\n",
    "    new_node = None\n",
    "    if root.left != None:\n",
    "        temp_left = root.left\n",
    "        new_node = BinaryTreeNode(root.data)\n",
    "        root.left = new_node\n",
    "        new_node.left= temp_left\n",
    "    else:\n",
    "        new_node = BinaryTreeNode(root.data)\n",
    "        root.left = new_node\n",
    "    if new_node == None:\n",
    "        insertDuplicateNode(root.left)\n",
    "    else:\n",
    "        insertDuplicateNode(new_node.left)\n",
    "    insertDuplicateNode(root.right)"
   ]
  }
 ],
 "metadata": {
  "interpreter": {
   "hash": "916dbcbb3f70747c44a77c7bcd40155683ae19c65e1c03b4aa3499c5328201f1"
  },
  "kernelspec": {
   "display_name": "Python 3.10.4 64-bit",
   "language": "python",
   "name": "python3"
  },
  "language_info": {
   "codemirror_mode": {
    "name": "ipython",
    "version": 3
   },
   "file_extension": ".py",
   "mimetype": "text/x-python",
   "name": "python",
   "nbconvert_exporter": "python",
   "pygments_lexer": "ipython3",
   "version": "3.10.4"
  },
  "orig_nbformat": 4
 },
 "nbformat": 4,
 "nbformat_minor": 2
}
