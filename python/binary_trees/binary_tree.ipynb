{
 "cells": [
  {
   "cell_type": "code",
   "execution_count": 1,
   "metadata": {},
   "outputs": [],
   "source": [
    "#Following the structure used for Binary Tree\n",
    "class BinaryTreeNode:\n",
    "    def __init__(self, data):\n",
    "        self.data = data\n",
    "        self.left = None\n",
    "        self.right = None\n",
    "\n",
    "def getSum(root):\n",
    "\t#Your code goes here\n",
    "    if root == None:\n",
    "        return 0\n",
    "    \n",
    "    return root.data + getSum(root.left) + getSum(root.right)\n"
   ]
  },
  {
   "cell_type": "code",
   "execution_count": 2,
   "metadata": {},
   "outputs": [],
   "source": [
    "\n",
    "def preOrder(root):\n",
    "    if root == None:\n",
    "        return\n",
    "    print(root.data,end=\" \")\n",
    "    preOrder(root.left)\n",
    "    preOrder(root.right)"
   ]
  },
  {
   "cell_type": "code",
   "execution_count": 4,
   "metadata": {},
   "outputs": [],
   "source": [
    "def postOrder(root):\n",
    "    if root == None:\n",
    "        return\n",
    "    postOrder(root.left)\n",
    "    postOrder(root.right)\n",
    "    print(root.data,end=\" \")"
   ]
  },
  {
   "cell_type": "code",
   "execution_count": 5,
   "metadata": {},
   "outputs": [],
   "source": [
    "def countNodesGreaterThanX(root, x) :\n",
    "    if root == None:\n",
    "        return 0\n",
    "    lc = countNodesGreaterThanX(root.left,x)\n",
    "    rc = countNodesGreaterThanX(root.right,x)\n",
    "    if root.data > x:\n",
    "        return 1 + lc + rc\n",
    "    else:\n",
    "        return lc + rc\n"
   ]
  },
  {
   "cell_type": "code",
   "execution_count": 6,
   "metadata": {},
   "outputs": [],
   "source": [
    "def mirrorBinaryTree(root) :\n",
    "    if root == None:\n",
    "        return\n",
    "    if root.left != None and root.right != None:\n",
    "        root.left.data,root.right.data = root.right.data,root.left.data\n",
    "    elif root.left == None and root.right:\n",
    "        root.left = root.right\n",
    "\n",
    "        root.right = None\n",
    "    elif root.right == None and root.left:\n",
    "        root.right = root.left\n",
    "        root.left = None\n",
    "\n",
    "    mirrorBinaryTree(root.left)\n",
    "    mirrorBinaryTree(root.right)\n",
    "        "
   ]
  },
  {
   "cell_type": "code",
   "execution_count": 7,
   "metadata": {},
   "outputs": [],
   "source": [
    "def isNodePresent(root, x):\n",
    "    if root == None:\n",
    "        return False\n",
    "    \n",
    "    if root.data == x:\n",
    "        return True\n",
    "    \n",
    "    return isNodePresent(root.left,x) or isNodePresent(root.right,x)"
   ]
  },
  {
   "cell_type": "code",
   "execution_count": 8,
   "metadata": {},
   "outputs": [],
   "source": [
    "def printNodesWithoutSibling(root) :\n",
    "    if root == None:\n",
    "        return \n",
    "    if root.left and root.right == None:\n",
    "        print(root.left.data,end=\" \")\n",
    "    elif root.right and root.left == None:\n",
    "        print(root.right.data,end=\" \")\n",
    "    printNodesWithoutSibling(root.left)\n",
    "    printNodesWithoutSibling(root.right)"
   ]
  },
  {
   "cell_type": "code",
   "execution_count": 9,
   "metadata": {},
   "outputs": [],
   "source": [
    "def height(root) :\n",
    "    if root == None:\n",
    "        return 0\n",
    "    leftHeight = 1 + height(root.left)\n",
    "    rightHeight = 1 + height(root.right)\n",
    "    return max(leftHeight,rightHeight)"
   ]
  },
  {
   "cell_type": "code",
   "execution_count": null,
   "metadata": {},
   "outputs": [],
   "source": [
    "def helper(root,d):\n",
    "    if root == None:\n",
    "        return 0\n",
    "    root.data = d\n",
    "    helper(root.left,d+1)\n",
    "    helper(root.right,d+1)\n",
    "\n",
    "def changeToDepthTree(root) :\n",
    "    return helper(root,0)    \n",
    "    "
   ]
  }
 ],
 "metadata": {
  "interpreter": {
   "hash": "916dbcbb3f70747c44a77c7bcd40155683ae19c65e1c03b4aa3499c5328201f1"
  },
  "kernelspec": {
   "display_name": "Python 3.10.4 64-bit",
   "language": "python",
   "name": "python3"
  },
  "language_info": {
   "codemirror_mode": {
    "name": "ipython",
    "version": 3
   },
   "file_extension": ".py",
   "mimetype": "text/x-python",
   "name": "python",
   "nbconvert_exporter": "python",
   "pygments_lexer": "ipython3",
   "version": "3.10.4"
  },
  "orig_nbformat": 4
 },
 "nbformat": 4,
 "nbformat_minor": 2
}
