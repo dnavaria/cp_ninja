{
 "cells": [
  {
   "cell_type": "code",
   "execution_count": 7,
   "metadata": {},
   "outputs": [
    {
     "data": {
      "text/plain": [
       "'3.143.143.14x'"
      ]
     },
     "execution_count": 7,
     "metadata": {},
     "output_type": "execute_result"
    }
   ],
   "source": [
    "def replacePi(string,ns):\n",
    "    if len(string) == 0:\n",
    "        return ns\n",
    "    if len(string) >=2 and  string[0] == \"p\" and string[1] == \"i\":\n",
    "        ns+= \"3.14\"\n",
    "        itr=2\n",
    "    else:\n",
    "        ns+=string[0]\n",
    "        itr=1\n",
    "    return replacePi(string[itr:],ns)\n",
    "\n",
    "ip = str(input())\n",
    "print(replacePi(ip,\"\"))"
   ]
  },
  {
   "cell_type": "code",
   "execution_count": 11,
   "id": "2c0d1599",
   "metadata": {},
   "outputs": [
    {
     "name": "stdout",
     "output_type": "stream",
     "text": [
      "a\n"
     ]
    }
   ],
   "source": [
    "# Problem: Remove x from string\n",
    "def removeX(string,ns): \n",
    "    if len(string) == 0:\n",
    "        return ns\n",
    "    if string[0] != \"x\":\n",
    "        ns+=string[0]\n",
    "    return removeX(string[1:],ns)\n",
    "\n",
    "# Main\n",
    "string = input()\n",
    "print(removeX(string,\"\"))\n"
   ]
  },
  {
   "cell_type": "code",
   "execution_count": null,
   "id": "4ae33884",
   "metadata": {},
   "outputs": [],
   "source": []
  }
 ],
 "metadata": {
  "interpreter": {
   "hash": "916dbcbb3f70747c44a77c7bcd40155683ae19c65e1c03b4aa3499c5328201f1"
  },
  "kernelspec": {
   "display_name": "Python 3.9.7 64-bit",
   "language": "python",
   "name": "python3"
  },
  "language_info": {
   "codemirror_mode": {
    "name": "ipython",
    "version": 3
   },
   "file_extension": ".py",
   "mimetype": "text/x-python",
   "name": "python",
   "nbconvert_exporter": "python",
   "pygments_lexer": "ipython3",
   "version": "3.9.7"
  }
 },
 "nbformat": 4,
 "nbformat_minor": 5
}
