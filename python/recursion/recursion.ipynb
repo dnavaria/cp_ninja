{
 "cells": [
  {
   "cell_type": "code",
   "execution_count": 58,
   "metadata": {},
   "outputs": [
    {
     "name": "stdout",
     "output_type": "stream",
     "text": [
      "x3.14o3.14x\n"
     ]
    }
   ],
   "source": [
    "def replacePi(string,ns):\n",
    "    if len(string) == 0:\n",
    "        return ns\n",
    "    if len(string) >=2 and  string[0] == \"p\" and string[1] == \"i\":\n",
    "        ns+= \"3.14\"\n",
    "        itr=2\n",
    "    else:\n",
    "        ns+=string[0]\n",
    "        itr=1\n",
    "    return replacePi(string[itr:],ns)\n",
    "\n",
    "ip = str(input())\n",
    "print(replacePi(ip,\"\"))"
   ]
  },
  {
   "cell_type": "code",
   "execution_count": 11,
   "id": "2c0d1599",
   "metadata": {},
   "outputs": [
    {
     "name": "stdout",
     "output_type": "stream",
     "text": [
      "a\n"
     ]
    }
   ],
   "source": [
    "# Problem: Remove x from string\n",
    "def removeX(string,ns): \n",
    "    if len(string) == 0:\n",
    "        return ns\n",
    "    if string[0] != \"x\":\n",
    "        ns+=string[0]\n",
    "    return removeX(string[1:],ns)\n",
    "\n",
    "# Main\n",
    "string = input()\n",
    "print(removeX(string,\"\"))\n"
   ]
  },
  {
   "cell_type": "code",
   "execution_count": 15,
   "id": "4ae33884",
   "metadata": {},
   "outputs": [
    {
     "name": "stdout",
     "output_type": "stream",
     "text": [
      "1234\n"
     ]
    }
   ],
   "source": [
    "def stoi(string,integer,place):\n",
    "    if len(string) == 0:\n",
    "        return integer\n",
    "    integer = (place * int(string[0])) + integer\n",
    "    return stoi(string[1:], integer, place//10)\n",
    "\n",
    "string = input()\n",
    "print(stoi(string,0,10**(len(string)-1)))"
   ]
  },
  {
   "cell_type": "code",
   "execution_count": 36,
   "id": "921140c6",
   "metadata": {},
   "outputs": [
    {
     "name": "stdout",
     "output_type": "stream",
     "text": [
      "a*a*ab*b*bc*c*c\n"
     ]
    }
   ],
   "source": [
    "def pairStar(string,newString):\n",
    "    if len(string) == 0:\n",
    "        return newString\n",
    "    if len(string) >=1 and newString[-1] == string[0]:\n",
    "        newString = newString + \"*\" +string[0]\n",
    "    else:\n",
    "        newString = newString + string[0]\n",
    "    return pairStar(string[1:],newString)\n",
    "    \n",
    "string = input()\n",
    "print(pairStar(string[1:],\"\"+string[0]))"
   ]
  },
  {
   "cell_type": "code",
   "execution_count": 44,
   "id": "021bb272",
   "metadata": {},
   "outputs": [
    {
     "name": "stdout",
     "output_type": "stream",
     "text": [
      "a b\n",
      "a c\n",
      "b c\n"
     ]
    }
   ],
   "source": [
    "def toh(source,aux,dest, n):\n",
    "    if n <= 0:\n",
    "        return\n",
    "    elif n == 1:\n",
    "        print(source,dest)\n",
    "        return\n",
    "    toh(source,dest,aux,n-1)\n",
    "    print(source,dest)\n",
    "    toh(aux,source,dest ,n-1)\n",
    "n = int(input())\n",
    "toh(\"a\",\"b\",\"c\",n)"
   ]
  },
  {
   "cell_type": "code",
   "execution_count": 57,
   "id": "4bfef5e7",
   "metadata": {},
   "outputs": [
    {
     "name": "stdout",
     "output_type": "stream",
     "text": [
      "abc\n"
     ]
    }
   ],
   "source": [
    "def removeConsecutiveDuplicates(string,ns):\n",
    "    if len(string) == 0:\n",
    "        return ns\n",
    "    if len(string) >=1 and ns[-1] != string[0]:\n",
    "        ns+=string[0]\n",
    "    return removeConsecutiveDuplicates(string[1:],ns)\n",
    "# Main\n",
    "string = input().strip()\n",
    "print(removeConsecutiveDuplicates(string[1:],\"\"+string[0]))\n"
   ]
  },
  {
   "cell_type": "code",
   "execution_count": 22,
   "id": "357f6b28",
   "metadata": {},
   "outputs": [
    {
     "data": {
      "text/plain": [
       "['', 'c', 'b', 'bc', 'a', 'ac', 'ab', 'abc']"
      ]
     },
     "execution_count": 22,
     "metadata": {},
     "output_type": "execute_result"
    }
   ],
   "source": [
    "def subequence(string):\n",
    "    if len(string) == 0:\n",
    "        output = [\"\"]\n",
    "        return output\n",
    "\n",
    "    smallString = string[1:]\n",
    "    smallOutput = subequence(smallString)\n",
    "\n",
    "    output = [subs for subs in smallOutput]\n",
    "    for subs in smallOutput:\n",
    "        output.append(string[0]+subs)\n",
    "    return output\n",
    "\n",
    "subequence(\"abc\")"
   ]
  },
  {
   "cell_type": "code",
   "execution_count": 29,
   "id": "bd93ea53",
   "metadata": {},
   "outputs": [
    {
     "data": {
      "text/plain": [
       "['', 'c', 'b', 'bc', 'a', 'ac', 'ab', 'abc']"
      ]
     },
     "execution_count": 29,
     "metadata": {},
     "output_type": "execute_result"
    }
   ],
   "source": [
    "def get_subsequence(string):\n",
    "    if len(string) == 0:\n",
    "        return [\"\"]\n",
    "\n",
    "    small_string = string[1:]\n",
    "    small_output = get_subsequence(small_string)\n",
    "\n",
    "    output = [ _ for _ in small_output]\n",
    "    for s in small_output:\n",
    "        output.append(string[0]+s)\n",
    "    return output\n",
    "get_subsequence(\"abc\")"
   ]
  },
  {
   "cell_type": "code",
   "execution_count": 36,
   "id": "cd0e7b26",
   "metadata": {},
   "outputs": [
    {
     "name": "stdout",
     "output_type": "stream",
     "text": [
      "ad\n",
      "bd\n",
      "cd\n",
      "ae\n",
      "be\n",
      "ce\n",
      "af\n",
      "bf\n",
      "cf\n"
     ]
    }
   ],
   "source": [
    "kpad = [\"\",\"\",\"abc\",\"def\",\"ghi\",\"jkl\",\"mno\",\"pqrs\",\"tuv\",\"wxyz\"]\n",
    "\n",
    "def keypad_code(number):\n",
    "    if number == 0 or number == 1:\n",
    "        return [\"\"]\n",
    "    elif number < 9:\n",
    "        return [_ for _ in kpad[number]]\n",
    "\n",
    "    small_number = number // 10 \n",
    "    remaing_digit = number % 10\n",
    "\n",
    "    small_output = keypad_code(small_number)\n",
    "    output = []\n",
    "    for i in kpad[remaing_digit]:\n",
    "        for j in small_output:\n",
    "            output.append(j+i)\n",
    "\n",
    "    return output\n",
    "\n",
    "    \n",
    "ip = int(input())\n",
    "for _ in keypad_code(ip):\n",
    "    print(_)"
   ]
  },
  {
   "cell_type": "code",
   "execution_count": 38,
   "id": "593db845",
   "metadata": {},
   "outputs": [
    {
     "name": "stdout",
     "output_type": "stream",
     "text": [
      "abc\n",
      "ab\n",
      "ac\n",
      "a\n",
      "bc\n",
      "b\n",
      "c\n",
      "\n"
     ]
    }
   ],
   "source": [
    "def printSubequences(string,new_string):\n",
    "    if len(string) == 0:\n",
    "        print(new_string)\n",
    "        return\n",
    "    printSubequences(string[1:],new_string+string[0])\n",
    "    printSubequences(string[1:],new_string)\n",
    "\n",
    "printSubequences(\"abc\",\"\")"
   ]
  },
  {
   "cell_type": "code",
   "execution_count": 44,
   "id": "81e55914",
   "metadata": {},
   "outputs": [
    {
     "name": "stdout",
     "output_type": "stream",
     "text": [
      "ad\n",
      "bd\n",
      "cd\n",
      "ae\n",
      "be\n",
      "ce\n",
      "af\n",
      "bf\n",
      "cf\n"
     ]
    }
   ],
   "source": [
    "kpad = [\"\",\"\",\"abc\",\"def\",\"ghi\",\"jkl\",\"mno\",\"pqrs\",\"tuv\",\"wxyz\"]\n",
    "def printKeypad(integer,output):\n",
    "    if integer == 0:\n",
    "        print(output)\n",
    "        return\n",
    "    \n",
    "    small_integer = integer // 10\n",
    "    remaining_digit = integer % 10\n",
    "    for i in kpad[remaining_digit]:\n",
    "        printKeypad(small_integer,i+output)\n",
    "    return\n",
    "\n",
    "\n",
    "    \n",
    "ip = int(input())\n",
    "printKeypad(ip,\"\")"
   ]
  },
  {
   "cell_type": "code",
   "execution_count": null,
   "id": "ecd334d4",
   "metadata": {},
   "outputs": [],
   "source": []
  }
 ],
 "metadata": {
  "interpreter": {
   "hash": "916dbcbb3f70747c44a77c7bcd40155683ae19c65e1c03b4aa3499c5328201f1"
  },
  "kernelspec": {
   "display_name": "Python 3.9.7 64-bit",
   "language": "python",
   "name": "python3"
  },
  "language_info": {
   "codemirror_mode": {
    "name": "ipython",
    "version": 3
   },
   "file_extension": ".py",
   "mimetype": "text/x-python",
   "name": "python",
   "nbconvert_exporter": "python",
   "pygments_lexer": "ipython3",
   "version": "3.9.7"
  }
 },
 "nbformat": 4,
 "nbformat_minor": 5
}
