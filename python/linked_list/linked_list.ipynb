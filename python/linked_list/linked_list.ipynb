{
 "cells": [
  {
   "cell_type": "code",
   "execution_count": null,
   "metadata": {},
   "outputs": [],
   "source": [
    "class Node:\n",
    "    def __init__(self, data):\n",
    "        self.data = data\n",
    "        self.next = None\n",
    "\n",
    "def print_ll(head: Node):\n",
    "    t_head = head\n",
    "    while t_head:\n",
    "        print(f\"{t_head.data} ->\",end=\" \")\n",
    "        t_head = t_head.next\n",
    "    print(\"None\")\n",
    "\n",
    "def take_input():\n",
    "    input_array = [i for i in input().split()]\n",
    "    head = None\n",
    "    tail = None\n",
    "    for i in input_array:\n",
    "        new_node = Node(i)\n",
    "        if head == None:\n",
    "            head = new_node\n",
    "            tail = head\n",
    "        else:\n",
    "            tail.next = new_node\n",
    "            tail = tail.next\n",
    "    return head\n",
    "\n",
    "ll = take_input()\n",
    "print_ll(ll)"
   ]
  },
  {
   "cell_type": "code",
   "execution_count": null,
   "metadata": {},
   "outputs": [],
   "source": [
    "def length(head: Node) :\n",
    "    ll_length = 0\n",
    "    t_head = head\n",
    "    while t_head:\n",
    "        t_head = t_head.next\n",
    "        ll_length+=1\n",
    "    return ll_length\n",
    "\n",
    "ll = take_input()\n",
    "length(ll)\n"
   ]
  },
  {
   "cell_type": "code",
   "execution_count": null,
   "metadata": {},
   "outputs": [],
   "source": [
    "def printIthNode(head: Node, i):\n",
    "    t_head = head\n",
    "    node_counter = 0\n",
    "    while t_head and node_counter < i:\n",
    "        t_head = t_head.next\n",
    "        node_counter+=1\n",
    "    if t_head:\n",
    "        print(t_head.data)\n",
    "    return"
   ]
  },
  {
   "cell_type": "code",
   "execution_count": null,
   "metadata": {},
   "outputs": [],
   "source": [
    "def insert_at_ith_position(head: Node, data, i):\n",
    "    if i < 0 or i > length(head):\n",
    "        return head\n",
    "\n",
    "    t_head = head\n",
    "    node_counter = 0\n",
    "    prev = None\n",
    "    new_node = Node(data)\n",
    "\n",
    "    while node_counter < i :\n",
    "        prev = t_head\n",
    "        t_head = t_head.next\n",
    "        node_counter+=1\n",
    "\n",
    "    if prev is not None:\n",
    "        prev.next = new_node\n",
    "    else:\n",
    "        head = new_node\n",
    "        \n",
    "    new_node.next = t_head\n",
    "    return head\n",
    "    \n",
    "ll = take_input()\n",
    "print_ll(ll)\n",
    "ll = insert_at_ith_position(ll, 6, 5)\n",
    "print_ll(ll)\n",
    "        "
   ]
  },
  {
   "cell_type": "code",
   "execution_count": null,
   "metadata": {},
   "outputs": [],
   "source": [
    "def length(head: Node) :\n",
    "    ll_length = 0\n",
    "    t_head = head\n",
    "    while t_head:\n",
    "        t_head = t_head.next\n",
    "        ll_length+=1\n",
    "    return ll_length\n",
    "\n",
    "def deleteNode(head, pos) :\n",
    "    previous_node = None\n",
    "    current_node = head\n",
    "    if current_node == None or pos < 0 or pos > length(head):\n",
    "        return head\n",
    "\n",
    "    node_counter = 0\n",
    "    while current_node and node_counter < pos:\n",
    "        previous_node = current_node\n",
    "        current_node = current_node.next\n",
    "        node_counter+=1\n",
    "    if previous_node is not None:\n",
    "        if previous_node.next != None:\n",
    "            previous_node.next = previous_node.next.next\n",
    "        else:\n",
    "            previous_node.next = None\n",
    "        del current_node\n",
    "    else:\n",
    "        del_node = head\n",
    "        head = head.next\n",
    "        del del_node\n",
    "    return head\n",
    "\n",
    "ll = take_input()\n",
    "print_ll(ll)\n",
    "deleteNode(ll,4)\n",
    "print_ll(ll)"
   ]
  },
  {
   "cell_type": "code",
   "execution_count": null,
   "metadata": {},
   "outputs": [],
   "source": [
    "def lengthRecursive(head):\n",
    "    if head == None:\n",
    "        return 0\n",
    "    return 1 + lengthRecursive(head.next)"
   ]
  },
  {
   "cell_type": "code",
   "execution_count": 76,
   "metadata": {},
   "outputs": [
    {
     "name": "stdout",
     "output_type": "stream",
     "text": [
      "1 -> 2 -> 3 -> 4 -> 5 -> None\n",
      "1 -> 2 -> 3 -> 4 -> 5 -> 6 -> None\n"
     ]
    }
   ],
   "source": [
    "\n",
    "def insert_at_ith_position_recursive(head, data, i):\n",
    "    if i < 0:\n",
    "        return head\n",
    "    if i == 0:\n",
    "        new_node = Node(data)\n",
    "        new_node.next = head\n",
    "        return new_node\n",
    "\n",
    "    if head is None:\n",
    "        return None\n",
    "\n",
    "    small_head = insert_at_ith_position_recursive(head.next, data, i-1)\n",
    "    head.next = small_head\n",
    "    return head\n",
    "\n",
    "ll = take_input()\n",
    "print_ll(ll)\n",
    "ll = insert_at_ith_position_recursive(ll, 6, 5)\n",
    "print_ll(ll)"
   ]
  },
  {
   "cell_type": "code",
   "execution_count": 77,
   "metadata": {},
   "outputs": [
    {
     "name": "stdout",
     "output_type": "stream",
     "text": [
      "1 -> 2 -> 3 -> 4 -> 5 -> None\n",
      "1 -> 2 -> 4 -> 5 -> None\n"
     ]
    }
   ],
   "source": [
    "def deleteNodeRec(head, pos) :\n",
    "    if pos < 0:\n",
    "        return head\n",
    "    if head is None:\n",
    "        return None\n",
    "    if pos == 0:\n",
    "        head = head.next\n",
    "        return head\n",
    "\n",
    "    small_head = deleteNodeRec(head.next,pos-1)\n",
    "    head.next = small_head\n",
    "    return head\n",
    "\n",
    "ll = take_input()\n",
    "print_ll(ll)\n",
    "ll = deleteNodeRec(ll,2)\n",
    "print_ll(ll)"
   ]
  },
  {
   "cell_type": "code",
   "execution_count": null,
   "metadata": {},
   "outputs": [],
   "source": []
  }
 ],
 "metadata": {
  "interpreter": {
   "hash": "916dbcbb3f70747c44a77c7bcd40155683ae19c65e1c03b4aa3499c5328201f1"
  },
  "kernelspec": {
   "display_name": "Python 3.9.7 64-bit",
   "language": "python",
   "name": "python3"
  },
  "language_info": {
   "codemirror_mode": {
    "name": "ipython",
    "version": 3
   },
   "file_extension": ".py",
   "mimetype": "text/x-python",
   "name": "python",
   "nbconvert_exporter": "python",
   "pygments_lexer": "ipython3",
   "version": "3.9.7"
  },
  "orig_nbformat": 4
 },
 "nbformat": 4,
 "nbformat_minor": 2
}
