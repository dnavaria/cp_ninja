{
 "cells": [
  {
   "cell_type": "code",
   "execution_count": 2,
   "id": "b3fb8d80",
   "metadata": {},
   "outputs": [
    {
     "name": "stdout",
     "output_type": "stream",
     "text": [
      "[456, 806, 338, 737, 558, 47, 756, 414, 358, 761]\n"
     ]
    }
   ],
   "source": [
    "import random\n",
    "x = []\n",
    "for i in range(10):\n",
    "    x.append(random.randint(0,1000))\n",
    "print(x)"
   ]
  },
  {
   "cell_type": "code",
   "execution_count": 25,
   "id": "4b956433",
   "metadata": {},
   "outputs": [
    {
     "name": "stdout",
     "output_type": "stream",
     "text": [
      "[8, 4, 9, 2, 4, 5, 7, 1, 5, 4]\n"
     ]
    },
    {
     "data": {
      "text/plain": [
       "[2, 5, 7, 1, 5]"
      ]
     },
     "execution_count": 25,
     "metadata": {},
     "output_type": "execute_result"
    }
   ],
   "source": [
    "def findPrime(arr):\n",
    "    ans = []\n",
    "    for i in arr:\n",
    "        flag = True\n",
    "        for j in range(2,i):\n",
    "            if i % j == 0:\n",
    "                flag = False\n",
    "                break\n",
    "        if flag:\n",
    "            ans.append(i)\n",
    "    return ans\n",
    "\n",
    "def generateRandomList():\n",
    "    x = []\n",
    "    for i in range(10):\n",
    "        x.append(random.randint(1,10))\n",
    "    return x\n",
    "\n",
    "x = generateRandomList()\n",
    "print(x)\n",
    "findPrime(x)"
   ]
  },
  {
   "cell_type": "code",
   "execution_count": 36,
   "id": "3bf48f8f",
   "metadata": {},
   "outputs": [
    {
     "name": "stdout",
     "output_type": "stream",
     "text": [
      "13\n",
      "Good Afternoon Deepak!\n"
     ]
    }
   ],
   "source": [
    "from datetime import datetime\n",
    "def greeting_decorator(function):\n",
    "    def wrapper(name):\n",
    "        time_of_day = None\n",
    "        ts_now = datetime.now()\n",
    "        if ts_now.hour >= 0 and ts_now.hour < 12:\n",
    "            time_of_day = \"Morning\"\n",
    "        elif ts_now.hour >= 12 and ts_now.hour < 16:\n",
    "            time_of_day = \"Afternoon\"\n",
    "        elif ts_now.hour >=16 and ts_now.hour < 20:\n",
    "            time_of_day = \"Evening\"\n",
    "        elif ts_now.hour >= 20 :\n",
    "            time_of_day = \"Evening\"\n",
    "        message = f\"Good {time_of_day} {name}!\"\n",
    "        function(message)\n",
    "    return wrapper\n",
    "\n",
    "@greeting_decorator\n",
    "def hello(name):\n",
    "    print(name)\n",
    "hello(\"Deepak\")"
   ]
  },
  {
   "cell_type": "code",
   "execution_count": 31,
   "id": "c9d5dc27",
   "metadata": {},
   "outputs": [
    {
     "name": "stdout",
     "output_type": "stream",
     "text": [
      "12\n"
     ]
    }
   ],
   "source": [
    "from datetime import datetime\n",
    "x = datetime.now()\n",
    "print(\"12\" if x.hour < 14 else \"0\")"
   ]
  },
  {
   "cell_type": "code",
   "execution_count": 37,
   "id": "408b72d6",
   "metadata": {},
   "outputs": [
    {
     "name": "stdout",
     "output_type": "stream",
     "text": [
      "{'a': 3, 'l': 3, 'k': 3, 'd': 3, 's': 3, 'j': 2, 'f': 3, 'h': 3, 'u': 4, 'g': 2, 'y': 1, 'i': 2, 'w': 2, 'e': 3, 'r': 1, 'q': 1}\n"
     ]
    }
   ],
   "source": [
    "x = \"alkdsjfhlausdkuhflkjasdhfgyuiwgeeriuqwe\"\n",
    "dd = {}\n",
    "for i in x:\n",
    "    dd[i] = dd.get(i,0)+1\n",
    "print(dd)"
   ]
  },
  {
   "cell_type": "code",
   "execution_count": null,
   "id": "356a69c9",
   "metadata": {},
   "outputs": [],
   "source": []
  }
 ],
 "metadata": {
  "kernelspec": {
   "display_name": "Python 3 (ipykernel)",
   "language": "python",
   "name": "python3"
  },
  "language_info": {
   "codemirror_mode": {
    "name": "ipython",
    "version": 3
   },
   "file_extension": ".py",
   "mimetype": "text/x-python",
   "name": "python",
   "nbconvert_exporter": "python",
   "pygments_lexer": "ipython3",
   "version": "3.9.7"
  }
 },
 "nbformat": 4,
 "nbformat_minor": 5
}
